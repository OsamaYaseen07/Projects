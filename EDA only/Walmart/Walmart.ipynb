{
 "cells": [
  {
   "cell_type": "markdown",
   "id": "0f0844df",
   "metadata": {},
   "source": [
    "## Business Problem\n",
    "\n",
    "The Management team at Walmart Inc. wants to analyze the customer purchase behavior (specifically, purchase amount) against the customer’s gender and the various other factors to help the business make better decisions. They want to understand if the spending habits differ between male and female customers: Do women spend more on Black Friday than men? (Assume 50 million customers are male and 50 million are female)."
   ]
  },
  {
   "cell_type": "code",
   "execution_count": 1,
   "id": "579fd7ab",
   "metadata": {},
   "outputs": [],
   "source": [
    "import pandas as pd\n",
    "import numpy as np\n",
    "import matplotlib.pyplot as plt\n",
    "import seaborn as sns"
   ]
  },
  {
   "cell_type": "code",
   "execution_count": 5,
   "id": "75974e03",
   "metadata": {},
   "outputs": [],
   "source": [
    "#read the dataset\n",
    "df=pd.read_csv('https://d2beiqkhq929f0.cloudfront.net/public_assets/assets/000/001/293/original/walmart_data.csv?1641285094')"
   ]
  },
  {
   "cell_type": "code",
   "execution_count": 6,
   "id": "15b6af47",
   "metadata": {},
   "outputs": [
    {
     "name": "stdout",
     "output_type": "stream",
     "text": [
      "<class 'pandas.core.frame.DataFrame'>\n",
      "RangeIndex: 550068 entries, 0 to 550067\n",
      "Data columns (total 10 columns):\n",
      " #   Column                      Non-Null Count   Dtype \n",
      "---  ------                      --------------   ----- \n",
      " 0   User_ID                     550068 non-null  int64 \n",
      " 1   Product_ID                  550068 non-null  object\n",
      " 2   Gender                      550068 non-null  object\n",
      " 3   Age                         550068 non-null  object\n",
      " 4   Occupation                  550068 non-null  int64 \n",
      " 5   City_Category               550068 non-null  object\n",
      " 6   Stay_In_Current_City_Years  550068 non-null  object\n",
      " 7   Marital_Status              550068 non-null  int64 \n",
      " 8   Product_Category            550068 non-null  int64 \n",
      " 9   Purchase                    550068 non-null  int64 \n",
      "dtypes: int64(5), object(5)\n",
      "memory usage: 42.0+ MB\n"
     ]
    }
   ],
   "source": [
    "df.info()"
   ]
  },
  {
   "cell_type": "code",
   "execution_count": 7,
   "id": "2cf12088",
   "metadata": {},
   "outputs": [
    {
     "data": {
      "text/html": [
       "<div>\n",
       "<style scoped>\n",
       "    .dataframe tbody tr th:only-of-type {\n",
       "        vertical-align: middle;\n",
       "    }\n",
       "\n",
       "    .dataframe tbody tr th {\n",
       "        vertical-align: top;\n",
       "    }\n",
       "\n",
       "    .dataframe thead th {\n",
       "        text-align: right;\n",
       "    }\n",
       "</style>\n",
       "<table border=\"1\" class=\"dataframe\">\n",
       "  <thead>\n",
       "    <tr style=\"text-align: right;\">\n",
       "      <th></th>\n",
       "      <th>User_ID</th>\n",
       "      <th>Product_ID</th>\n",
       "      <th>Gender</th>\n",
       "      <th>Age</th>\n",
       "      <th>Occupation</th>\n",
       "      <th>City_Category</th>\n",
       "      <th>Stay_In_Current_City_Years</th>\n",
       "      <th>Marital_Status</th>\n",
       "      <th>Product_Category</th>\n",
       "      <th>Purchase</th>\n",
       "    </tr>\n",
       "  </thead>\n",
       "  <tbody>\n",
       "    <tr>\n",
       "      <th>0</th>\n",
       "      <td>1000001</td>\n",
       "      <td>P00069042</td>\n",
       "      <td>F</td>\n",
       "      <td>0-17</td>\n",
       "      <td>10</td>\n",
       "      <td>A</td>\n",
       "      <td>2</td>\n",
       "      <td>0</td>\n",
       "      <td>3</td>\n",
       "      <td>8370</td>\n",
       "    </tr>\n",
       "    <tr>\n",
       "      <th>1</th>\n",
       "      <td>1000001</td>\n",
       "      <td>P00248942</td>\n",
       "      <td>F</td>\n",
       "      <td>0-17</td>\n",
       "      <td>10</td>\n",
       "      <td>A</td>\n",
       "      <td>2</td>\n",
       "      <td>0</td>\n",
       "      <td>1</td>\n",
       "      <td>15200</td>\n",
       "    </tr>\n",
       "    <tr>\n",
       "      <th>2</th>\n",
       "      <td>1000001</td>\n",
       "      <td>P00087842</td>\n",
       "      <td>F</td>\n",
       "      <td>0-17</td>\n",
       "      <td>10</td>\n",
       "      <td>A</td>\n",
       "      <td>2</td>\n",
       "      <td>0</td>\n",
       "      <td>12</td>\n",
       "      <td>1422</td>\n",
       "    </tr>\n",
       "    <tr>\n",
       "      <th>3</th>\n",
       "      <td>1000001</td>\n",
       "      <td>P00085442</td>\n",
       "      <td>F</td>\n",
       "      <td>0-17</td>\n",
       "      <td>10</td>\n",
       "      <td>A</td>\n",
       "      <td>2</td>\n",
       "      <td>0</td>\n",
       "      <td>12</td>\n",
       "      <td>1057</td>\n",
       "    </tr>\n",
       "    <tr>\n",
       "      <th>4</th>\n",
       "      <td>1000002</td>\n",
       "      <td>P00285442</td>\n",
       "      <td>M</td>\n",
       "      <td>55+</td>\n",
       "      <td>16</td>\n",
       "      <td>C</td>\n",
       "      <td>4+</td>\n",
       "      <td>0</td>\n",
       "      <td>8</td>\n",
       "      <td>7969</td>\n",
       "    </tr>\n",
       "  </tbody>\n",
       "</table>\n",
       "</div>"
      ],
      "text/plain": [
       "   User_ID Product_ID Gender   Age  Occupation City_Category  \\\n",
       "0  1000001  P00069042      F  0-17          10             A   \n",
       "1  1000001  P00248942      F  0-17          10             A   \n",
       "2  1000001  P00087842      F  0-17          10             A   \n",
       "3  1000001  P00085442      F  0-17          10             A   \n",
       "4  1000002  P00285442      M   55+          16             C   \n",
       "\n",
       "  Stay_In_Current_City_Years  Marital_Status  Product_Category  Purchase  \n",
       "0                          2               0                 3      8370  \n",
       "1                          2               0                 1     15200  \n",
       "2                          2               0                12      1422  \n",
       "3                          2               0                12      1057  \n",
       "4                         4+               0                 8      7969  "
      ]
     },
     "execution_count": 7,
     "metadata": {},
     "output_type": "execute_result"
    }
   ],
   "source": [
    "df.head()"
   ]
  },
  {
   "cell_type": "code",
   "execution_count": 8,
   "id": "9a4e57bd",
   "metadata": {},
   "outputs": [],
   "source": [
    "#convert the categorical features to object data type from int64\n",
    "col=['User_ID','Occupation','Marital_Status','Product_Category']"
   ]
  },
  {
   "cell_type": "code",
   "execution_count": 9,
   "id": "17c7daf6",
   "metadata": {},
   "outputs": [],
   "source": [
    "for c in col:\n",
    "    df[col]=df[col].astype('object')"
   ]
  },
  {
   "cell_type": "code",
   "execution_count": 10,
   "id": "5e7524e8",
   "metadata": {},
   "outputs": [
    {
     "name": "stdout",
     "output_type": "stream",
     "text": [
      "<class 'pandas.core.frame.DataFrame'>\n",
      "RangeIndex: 550068 entries, 0 to 550067\n",
      "Data columns (total 10 columns):\n",
      " #   Column                      Non-Null Count   Dtype \n",
      "---  ------                      --------------   ----- \n",
      " 0   User_ID                     550068 non-null  object\n",
      " 1   Product_ID                  550068 non-null  object\n",
      " 2   Gender                      550068 non-null  object\n",
      " 3   Age                         550068 non-null  object\n",
      " 4   Occupation                  550068 non-null  object\n",
      " 5   City_Category               550068 non-null  object\n",
      " 6   Stay_In_Current_City_Years  550068 non-null  object\n",
      " 7   Marital_Status              550068 non-null  object\n",
      " 8   Product_Category            550068 non-null  object\n",
      " 9   Purchase                    550068 non-null  int64 \n",
      "dtypes: int64(1), object(9)\n",
      "memory usage: 42.0+ MB\n"
     ]
    }
   ],
   "source": [
    "df.info()"
   ]
  },
  {
   "cell_type": "code",
   "execution_count": 11,
   "id": "1ce9873a",
   "metadata": {},
   "outputs": [
    {
     "data": {
      "text/html": [
       "<div>\n",
       "<style scoped>\n",
       "    .dataframe tbody tr th:only-of-type {\n",
       "        vertical-align: middle;\n",
       "    }\n",
       "\n",
       "    .dataframe tbody tr th {\n",
       "        vertical-align: top;\n",
       "    }\n",
       "\n",
       "    .dataframe thead th {\n",
       "        text-align: right;\n",
       "    }\n",
       "</style>\n",
       "<table border=\"1\" class=\"dataframe\">\n",
       "  <thead>\n",
       "    <tr style=\"text-align: right;\">\n",
       "      <th></th>\n",
       "      <th>Purchase</th>\n",
       "    </tr>\n",
       "  </thead>\n",
       "  <tbody>\n",
       "    <tr>\n",
       "      <th>count</th>\n",
       "      <td>550068.000000</td>\n",
       "    </tr>\n",
       "    <tr>\n",
       "      <th>mean</th>\n",
       "      <td>9263.968713</td>\n",
       "    </tr>\n",
       "    <tr>\n",
       "      <th>std</th>\n",
       "      <td>5023.065394</td>\n",
       "    </tr>\n",
       "    <tr>\n",
       "      <th>min</th>\n",
       "      <td>12.000000</td>\n",
       "    </tr>\n",
       "    <tr>\n",
       "      <th>25%</th>\n",
       "      <td>5823.000000</td>\n",
       "    </tr>\n",
       "    <tr>\n",
       "      <th>50%</th>\n",
       "      <td>8047.000000</td>\n",
       "    </tr>\n",
       "    <tr>\n",
       "      <th>75%</th>\n",
       "      <td>12054.000000</td>\n",
       "    </tr>\n",
       "    <tr>\n",
       "      <th>max</th>\n",
       "      <td>23961.000000</td>\n",
       "    </tr>\n",
       "  </tbody>\n",
       "</table>\n",
       "</div>"
      ],
      "text/plain": [
       "            Purchase\n",
       "count  550068.000000\n",
       "mean     9263.968713\n",
       "std      5023.065394\n",
       "min        12.000000\n",
       "25%      5823.000000\n",
       "50%      8047.000000\n",
       "75%     12054.000000\n",
       "max     23961.000000"
      ]
     },
     "execution_count": 11,
     "metadata": {},
     "output_type": "execute_result"
    }
   ],
   "source": [
    "# statistical summary of the data\n",
    "df.describe()"
   ]
  },
  {
   "cell_type": "code",
   "execution_count": 12,
   "id": "c5bb4080",
   "metadata": {},
   "outputs": [
    {
     "data": {
      "text/html": [
       "<div>\n",
       "<style scoped>\n",
       "    .dataframe tbody tr th:only-of-type {\n",
       "        vertical-align: middle;\n",
       "    }\n",
       "\n",
       "    .dataframe tbody tr th {\n",
       "        vertical-align: top;\n",
       "    }\n",
       "\n",
       "    .dataframe thead th {\n",
       "        text-align: right;\n",
       "    }\n",
       "</style>\n",
       "<table border=\"1\" class=\"dataframe\">\n",
       "  <thead>\n",
       "    <tr style=\"text-align: right;\">\n",
       "      <th></th>\n",
       "      <th>User_ID</th>\n",
       "      <th>Product_ID</th>\n",
       "      <th>Gender</th>\n",
       "      <th>Age</th>\n",
       "      <th>Occupation</th>\n",
       "      <th>City_Category</th>\n",
       "      <th>Stay_In_Current_City_Years</th>\n",
       "      <th>Marital_Status</th>\n",
       "      <th>Product_Category</th>\n",
       "    </tr>\n",
       "  </thead>\n",
       "  <tbody>\n",
       "    <tr>\n",
       "      <th>count</th>\n",
       "      <td>550068</td>\n",
       "      <td>550068</td>\n",
       "      <td>550068</td>\n",
       "      <td>550068</td>\n",
       "      <td>550068</td>\n",
       "      <td>550068</td>\n",
       "      <td>550068</td>\n",
       "      <td>550068</td>\n",
       "      <td>550068</td>\n",
       "    </tr>\n",
       "    <tr>\n",
       "      <th>unique</th>\n",
       "      <td>5891</td>\n",
       "      <td>3631</td>\n",
       "      <td>2</td>\n",
       "      <td>7</td>\n",
       "      <td>21</td>\n",
       "      <td>3</td>\n",
       "      <td>5</td>\n",
       "      <td>2</td>\n",
       "      <td>20</td>\n",
       "    </tr>\n",
       "    <tr>\n",
       "      <th>top</th>\n",
       "      <td>1001680</td>\n",
       "      <td>P00265242</td>\n",
       "      <td>M</td>\n",
       "      <td>26-35</td>\n",
       "      <td>4</td>\n",
       "      <td>B</td>\n",
       "      <td>1</td>\n",
       "      <td>0</td>\n",
       "      <td>5</td>\n",
       "    </tr>\n",
       "    <tr>\n",
       "      <th>freq</th>\n",
       "      <td>1026</td>\n",
       "      <td>1880</td>\n",
       "      <td>414259</td>\n",
       "      <td>219587</td>\n",
       "      <td>72308</td>\n",
       "      <td>231173</td>\n",
       "      <td>193821</td>\n",
       "      <td>324731</td>\n",
       "      <td>150933</td>\n",
       "    </tr>\n",
       "  </tbody>\n",
       "</table>\n",
       "</div>"
      ],
      "text/plain": [
       "        User_ID Product_ID  Gender     Age  Occupation City_Category  \\\n",
       "count    550068     550068  550068  550068      550068        550068   \n",
       "unique     5891       3631       2       7          21             3   \n",
       "top     1001680  P00265242       M   26-35           4             B   \n",
       "freq       1026       1880  414259  219587       72308        231173   \n",
       "\n",
       "       Stay_In_Current_City_Years  Marital_Status  Product_Category  \n",
       "count                      550068          550068            550068  \n",
       "unique                          5               2                20  \n",
       "top                             1               0                 5  \n",
       "freq                       193821          324731            150933  "
      ]
     },
     "execution_count": 12,
     "metadata": {},
     "output_type": "execute_result"
    }
   ],
   "source": [
    "df.describe(include='object')"
   ]
  },
  {
   "cell_type": "markdown",
   "id": "720b0c87",
   "metadata": {},
   "source": [
    "Let us look at the total purchase amount spent by each gender"
   ]
  },
  {
   "cell_type": "code",
   "execution_count": 22,
   "id": "4f3902e8",
   "metadata": {},
   "outputs": [
    {
     "data": {
      "text/html": [
       "<div>\n",
       "<style scoped>\n",
       "    .dataframe tbody tr th:only-of-type {\n",
       "        vertical-align: middle;\n",
       "    }\n",
       "\n",
       "    .dataframe tbody tr th {\n",
       "        vertical-align: top;\n",
       "    }\n",
       "\n",
       "    .dataframe thead th {\n",
       "        text-align: right;\n",
       "    }\n",
       "</style>\n",
       "<table border=\"1\" class=\"dataframe\">\n",
       "  <thead>\n",
       "    <tr style=\"text-align: right;\">\n",
       "      <th></th>\n",
       "      <th>Gender</th>\n",
       "      <th>Purchase</th>\n",
       "    </tr>\n",
       "  </thead>\n",
       "  <tbody>\n",
       "    <tr>\n",
       "      <th>0</th>\n",
       "      <td>F</td>\n",
       "      <td>1186232642</td>\n",
       "    </tr>\n",
       "    <tr>\n",
       "      <th>1</th>\n",
       "      <td>M</td>\n",
       "      <td>3909580100</td>\n",
       "    </tr>\n",
       "  </tbody>\n",
       "</table>\n",
       "</div>"
      ],
      "text/plain": [
       "  Gender    Purchase\n",
       "0      F  1186232642\n",
       "1      M  3909580100"
      ]
     },
     "execution_count": 22,
     "metadata": {},
     "output_type": "execute_result"
    }
   ],
   "source": [
    "#Total Purchase by Gender\n",
    "df.groupby('Gender')[['Purchase']].sum().reset_index()"
   ]
  },
  {
   "cell_type": "code",
   "execution_count": 14,
   "id": "0ba1880c",
   "metadata": {
    "scrolled": true
   },
   "outputs": [
    {
     "data": {
      "text/plain": [
       "<AxesSubplot:xlabel='Gender', ylabel='Purchase'>"
      ]
     },
     "execution_count": 14,
     "metadata": {},
     "output_type": "execute_result"
    },
    {
     "data": {
      "image/png": "[encoded data removed]",
      "text/plain": [
       "<Figure size 432x288 with 1 Axes>"
      ]
     },
     "metadata": {
      "needs_background": "light"
     },
     "output_type": "display_data"
    }
   ],
   "source": [
    "sns.barplot(y='Purchase', x='Gender', data=df, estimator=np.sum)"
   ]
  },
  {
   "cell_type": "code",
   "execution_count": 265,
   "id": "82a3a1b1",
   "metadata": {},
   "outputs": [
    {
     "data": {
      "text/html": [
       "<div>\n",
       "<style scoped>\n",
       "    .dataframe tbody tr th:only-of-type {\n",
       "        vertical-align: middle;\n",
       "    }\n",
       "\n",
       "    .dataframe tbody tr th {\n",
       "        vertical-align: top;\n",
       "    }\n",
       "\n",
       "    .dataframe thead th {\n",
       "        text-align: right;\n",
       "    }\n",
       "</style>\n",
       "<table border=\"1\" class=\"dataframe\">\n",
       "  <thead>\n",
       "    <tr style=\"text-align: right;\">\n",
       "      <th></th>\n",
       "      <th>Purchase</th>\n",
       "    </tr>\n",
       "    <tr>\n",
       "      <th>Gender</th>\n",
       "      <th></th>\n",
       "    </tr>\n",
       "  </thead>\n",
       "  <tbody>\n",
       "    <tr>\n",
       "      <th>F</th>\n",
       "      <td>0.232786</td>\n",
       "    </tr>\n",
       "    <tr>\n",
       "      <th>M</th>\n",
       "      <td>0.767214</td>\n",
       "    </tr>\n",
       "  </tbody>\n",
       "</table>\n",
       "</div>"
      ],
      "text/plain": [
       "        Purchase\n",
       "Gender          \n",
       "F       0.232786\n",
       "M       0.767214"
      ]
     },
     "execution_count": 265,
     "metadata": {},
     "output_type": "execute_result"
    }
   ],
   "source": [
    "#Total Purchase by Gender\n",
    "df.groupby('Gender')[['Purchase']].sum()/df.groupby('Gender')[['Purchase']].sum().sum()"
   ]
  },
  {
   "cell_type": "code",
   "execution_count": 266,
   "id": "def3681d",
   "metadata": {},
   "outputs": [
    {
     "data": {
      "text/plain": [
       "Gender\n",
       "M         0.717196\n",
       "F         0.282804\n",
       "dtype: float64"
      ]
     },
     "execution_count": 266,
     "metadata": {},
     "output_type": "execute_result"
    }
   ],
   "source": [
    "df.groupby('User_ID')[['Gender']].max().value_counts(normalize=True)"
   ]
  },
  {
   "cell_type": "code",
   "execution_count": 267,
   "id": "5ba70cf9",
   "metadata": {},
   "outputs": [
    {
     "data": {
      "text/html": [
       "<div>\n",
       "<style scoped>\n",
       "    .dataframe tbody tr th:only-of-type {\n",
       "        vertical-align: middle;\n",
       "    }\n",
       "\n",
       "    .dataframe tbody tr th {\n",
       "        vertical-align: top;\n",
       "    }\n",
       "\n",
       "    .dataframe thead th {\n",
       "        text-align: right;\n",
       "    }\n",
       "</style>\n",
       "<table border=\"1\" class=\"dataframe\">\n",
       "  <thead>\n",
       "    <tr style=\"text-align: right;\">\n",
       "      <th></th>\n",
       "      <th>Gender</th>\n",
       "      <th>Purchase</th>\n",
       "    </tr>\n",
       "  </thead>\n",
       "  <tbody>\n",
       "    <tr>\n",
       "      <th>0</th>\n",
       "      <td>F</td>\n",
       "      <td>8734.565765</td>\n",
       "    </tr>\n",
       "    <tr>\n",
       "      <th>1</th>\n",
       "      <td>M</td>\n",
       "      <td>9437.526040</td>\n",
       "    </tr>\n",
       "  </tbody>\n",
       "</table>\n",
       "</div>"
      ],
      "text/plain": [
       "  Gender     Purchase\n",
       "0      F  8734.565765\n",
       "1      M  9437.526040"
      ]
     },
     "execution_count": 267,
     "metadata": {},
     "output_type": "execute_result"
    }
   ],
   "source": [
    "#Average Product Spend by Gender\n",
    "df.groupby('Gender')[['Purchase']].mean().reset_index()"
   ]
  },
  {
   "cell_type": "code",
   "execution_count": 268,
   "id": "f60ffd40",
   "metadata": {
    "scrolled": true
   },
   "outputs": [
    {
     "data": {
      "image/png": "[encoded data removed]",
      "text/plain": [
       "<Figure size 432x288 with 1 Axes>"
      ]
     },
     "metadata": {
      "needs_background": "light"
     },
     "output_type": "display_data"
    }
   ],
   "source": [
    "sns.barplot(y='Purchase', x='Gender', data=df, estimator=np.mean)\n",
    "plt.title('Average Spend by Gender')\n",
    "plt.show()"
   ]
  },
  {
   "cell_type": "markdown",
   "id": "15ba48a6",
   "metadata": {},
   "source": [
    "Overall spend by Males is 5% higher than thier population proportion in the data. However the average spent by both genders is not significantly different."
   ]
  },
  {
   "cell_type": "markdown",
   "id": "22ff906a",
   "metadata": {},
   "source": [
    "Let's look at spending pattern by marital status"
   ]
  },
  {
   "cell_type": "code",
   "execution_count": 269,
   "id": "1062902e",
   "metadata": {
    "scrolled": true
   },
   "outputs": [
    {
     "data": {
      "image/png": "[encoded data removed]",
      "text/plain": [
       "<Figure size 432x288 with 1 Axes>"
      ]
     },
     "metadata": {
      "needs_background": "light"
     },
     "output_type": "display_data"
    }
   ],
   "source": [
    "sns.barplot(y='Purchase', x='Marital_Status', data=df, hue='Gender' ,estimator=np.sum)\n",
    "plt.title('Total Spend by Marital Status and Gender')\n",
    "plt.show()"
   ]
  },
  {
   "cell_type": "code",
   "execution_count": 270,
   "id": "0337a113",
   "metadata": {
    "scrolled": false
   },
   "outputs": [
    {
     "data": {
      "image/png": "[encoded data removed]",
      "text/plain": [
       "<Figure size 432x288 with 1 Axes>"
      ]
     },
     "metadata": {
      "needs_background": "light"
     },
     "output_type": "display_data"
    }
   ],
   "source": [
    "sns.barplot(y='Purchase', x='Marital_Status', data=df, hue='Gender' ,estimator=np.mean)\n",
    "plt.title('Average Spend by Marital Status and Gender')\n",
    "plt.show()"
   ]
  },
  {
   "cell_type": "code",
   "execution_count": 271,
   "id": "acf09bd6",
   "metadata": {
    "scrolled": true
   },
   "outputs": [
    {
     "data": {
      "image/png": "[encoded data removed]",
      "text/plain": [
       "<Figure size 432x288 with 1 Axes>"
      ]
     },
     "metadata": {
      "needs_background": "light"
     },
     "output_type": "display_data"
    }
   ],
   "source": [
    "#Age Group distribution of Transactions\n",
    "sns.barplot(y='Age', x='index', data=df['Age'].value_counts(normalize=True).reset_index())\n",
    "plt.ylabel('Percent');\n",
    "plt.xlabel('Age Group');\n",
    "plt.title('Transaction % by Age Group')\n",
    "plt.show()"
   ]
  },
  {
   "cell_type": "code",
   "execution_count": 272,
   "id": "3ca42e3d",
   "metadata": {},
   "outputs": [
    {
     "data": {
      "image/png": "[encoded data removed]",
      "text/plain": [
       "<Figure size 432x288 with 1 Axes>"
      ]
     },
     "metadata": {
      "needs_background": "light"
     },
     "output_type": "display_data"
    }
   ],
   "source": [
    "#Age group for unique customers\n",
    "sns.barplot(y='Age', x='index', data=df_summary['Age'].value_counts(normalize=True).reset_index())\n",
    "plt.ylabel('Percent');\n",
    "plt.xlabel('Age Group');\n",
    "plt.title('Customer % by Age Group')\n",
    "plt.show()"
   ]
  },
  {
   "cell_type": "code",
   "execution_count": null,
   "id": "eabbe254",
   "metadata": {},
   "outputs": [],
   "source": []
  },
  {
   "cell_type": "code",
   "execution_count": 273,
   "id": "3e4e0e59",
   "metadata": {},
   "outputs": [
    {
     "data": {
      "image/png": "[encoded data removed]",
      "text/plain": [
       "<Figure size 432x288 with 1 Axes>"
      ]
     },
     "metadata": {
      "needs_background": "light"
     },
     "output_type": "display_data"
    }
   ],
   "source": [
    "#Gender distribution of Transactions\n",
    "sns.barplot(y='Gender', x='index', data=df['Gender'].value_counts(normalize=True).reset_index())\n",
    "plt.ylabel('Percent');\n",
    "plt.xlabel('Gender');\n",
    "plt.title('Transaction % by Gender')\n",
    "plt.show()"
   ]
  },
  {
   "cell_type": "code",
   "execution_count": 274,
   "id": "ddb0b62a",
   "metadata": {},
   "outputs": [
    {
     "data": {
      "image/png": "[encoded data removed]",
      "text/plain": [
       "<Figure size 432x288 with 1 Axes>"
      ]
     },
     "metadata": {
      "needs_background": "light"
     },
     "output_type": "display_data"
    }
   ],
   "source": [
    "#Gender for unique customers\n",
    "sns.barplot(y='Gender', x='index', data=df_summary['Gender'].value_counts(normalize=True).reset_index())\n",
    "plt.ylabel('Percent');\n",
    "plt.xlabel('Gender');\n",
    "plt.title('Customer % by Gender')\n",
    "plt.show()"
   ]
  },
  {
   "cell_type": "code",
   "execution_count": 275,
   "id": "bf920b44",
   "metadata": {},
   "outputs": [
    {
     "data": {
      "image/png": "[encoded data removed]",
      "text/plain": [
       "<Figure size 432x288 with 1 Axes>"
      ]
     },
     "metadata": {
      "needs_background": "light"
     },
     "output_type": "display_data"
    }
   ],
   "source": [
    "#Marital Statusdistribution of Transactions\n",
    "sns.barplot(y='Marital_Status', x='index', data=df['Marital_Status'].value_counts(normalize=True).reset_index())\n",
    "plt.ylabel('Percent');\n",
    "plt.xlabel('Marital_Status');\n",
    "plt.title('Transaction % by Marital_Status')\n",
    "plt.show()"
   ]
  },
  {
   "cell_type": "code",
   "execution_count": 276,
   "id": "88d917ef",
   "metadata": {},
   "outputs": [
    {
     "data": {
      "image/png": "[encoded data removed]",
      "text/plain": [
       "<Figure size 432x288 with 1 Axes>"
      ]
     },
     "metadata": {
      "needs_background": "light"
     },
     "output_type": "display_data"
    }
   ],
   "source": [
    "#Marital Status for unique customers\n",
    "sns.barplot(y='Marital_Status', x='index', data=df_summary['Marital_Status'].value_counts(normalize=True).reset_index())\n",
    "plt.ylabel('Percent');\n",
    "plt.xlabel('Marital_Status');\n",
    "plt.title('Customer % by Marital_Status')\n",
    "plt.show()"
   ]
  },
  {
   "cell_type": "code",
   "execution_count": null,
   "id": "e2430276",
   "metadata": {},
   "outputs": [],
   "source": []
  },
  {
   "cell_type": "code",
   "execution_count": null,
   "id": "50dba6cc",
   "metadata": {},
   "outputs": [],
   "source": []
  },
  {
   "cell_type": "code",
   "execution_count": null,
   "id": "093a61d0",
   "metadata": {},
   "outputs": [],
   "source": []
  },
  {
   "cell_type": "code",
   "execution_count": 277,
   "id": "b80208be",
   "metadata": {},
   "outputs": [],
   "source": [
    "#create a summary dataframe for aggregated purchase by each customer"
   ]
  },
  {
   "cell_type": "code",
   "execution_count": 17,
   "id": "a576613d",
   "metadata": {},
   "outputs": [
    {
     "data": {
      "text/html": [
       "<div>\n",
       "<style scoped>\n",
       "    .dataframe tbody tr th:only-of-type {\n",
       "        vertical-align: middle;\n",
       "    }\n",
       "\n",
       "    .dataframe tbody tr th {\n",
       "        vertical-align: top;\n",
       "    }\n",
       "\n",
       "    .dataframe thead th {\n",
       "        text-align: right;\n",
       "    }\n",
       "</style>\n",
       "<table border=\"1\" class=\"dataframe\">\n",
       "  <thead>\n",
       "    <tr style=\"text-align: right;\">\n",
       "      <th></th>\n",
       "      <th>Gender</th>\n",
       "      <th>Age</th>\n",
       "      <th>Occupation</th>\n",
       "      <th>City_Category</th>\n",
       "      <th>Stay_In_Current_City_Years</th>\n",
       "      <th>Marital_Status</th>\n",
       "    </tr>\n",
       "    <tr>\n",
       "      <th>User_ID</th>\n",
       "      <th></th>\n",
       "      <th></th>\n",
       "      <th></th>\n",
       "      <th></th>\n",
       "      <th></th>\n",
       "      <th></th>\n",
       "    </tr>\n",
       "  </thead>\n",
       "  <tbody>\n",
       "    <tr>\n",
       "      <th>1000001</th>\n",
       "      <td>F</td>\n",
       "      <td>0-17</td>\n",
       "      <td>10</td>\n",
       "      <td>A</td>\n",
       "      <td>2</td>\n",
       "      <td>0</td>\n",
       "    </tr>\n",
       "    <tr>\n",
       "      <th>1000002</th>\n",
       "      <td>M</td>\n",
       "      <td>55+</td>\n",
       "      <td>16</td>\n",
       "      <td>C</td>\n",
       "      <td>4+</td>\n",
       "      <td>0</td>\n",
       "    </tr>\n",
       "    <tr>\n",
       "      <th>1000003</th>\n",
       "      <td>M</td>\n",
       "      <td>26-35</td>\n",
       "      <td>15</td>\n",
       "      <td>A</td>\n",
       "      <td>3</td>\n",
       "      <td>0</td>\n",
       "    </tr>\n",
       "    <tr>\n",
       "      <th>1000004</th>\n",
       "      <td>M</td>\n",
       "      <td>46-50</td>\n",
       "      <td>7</td>\n",
       "      <td>B</td>\n",
       "      <td>2</td>\n",
       "      <td>1</td>\n",
       "    </tr>\n",
       "    <tr>\n",
       "      <th>1000005</th>\n",
       "      <td>M</td>\n",
       "      <td>26-35</td>\n",
       "      <td>20</td>\n",
       "      <td>A</td>\n",
       "      <td>1</td>\n",
       "      <td>1</td>\n",
       "    </tr>\n",
       "    <tr>\n",
       "      <th>...</th>\n",
       "      <td>...</td>\n",
       "      <td>...</td>\n",
       "      <td>...</td>\n",
       "      <td>...</td>\n",
       "      <td>...</td>\n",
       "      <td>...</td>\n",
       "    </tr>\n",
       "    <tr>\n",
       "      <th>1006036</th>\n",
       "      <td>F</td>\n",
       "      <td>26-35</td>\n",
       "      <td>15</td>\n",
       "      <td>B</td>\n",
       "      <td>4+</td>\n",
       "      <td>1</td>\n",
       "    </tr>\n",
       "    <tr>\n",
       "      <th>1006037</th>\n",
       "      <td>F</td>\n",
       "      <td>46-50</td>\n",
       "      <td>1</td>\n",
       "      <td>C</td>\n",
       "      <td>4+</td>\n",
       "      <td>0</td>\n",
       "    </tr>\n",
       "    <tr>\n",
       "      <th>1006038</th>\n",
       "      <td>F</td>\n",
       "      <td>55+</td>\n",
       "      <td>1</td>\n",
       "      <td>C</td>\n",
       "      <td>2</td>\n",
       "      <td>0</td>\n",
       "    </tr>\n",
       "    <tr>\n",
       "      <th>1006039</th>\n",
       "      <td>F</td>\n",
       "      <td>46-50</td>\n",
       "      <td>0</td>\n",
       "      <td>B</td>\n",
       "      <td>4+</td>\n",
       "      <td>1</td>\n",
       "    </tr>\n",
       "    <tr>\n",
       "      <th>1006040</th>\n",
       "      <td>M</td>\n",
       "      <td>26-35</td>\n",
       "      <td>6</td>\n",
       "      <td>B</td>\n",
       "      <td>2</td>\n",
       "      <td>0</td>\n",
       "    </tr>\n",
       "  </tbody>\n",
       "</table>\n",
       "<p>5891 rows × 6 columns</p>\n",
       "</div>"
      ],
      "text/plain": [
       "        Gender    Age  Occupation City_Category Stay_In_Current_City_Years  \\\n",
       "User_ID                                                                      \n",
       "1000001      F   0-17          10             A                          2   \n",
       "1000002      M    55+          16             C                         4+   \n",
       "1000003      M  26-35          15             A                          3   \n",
       "1000004      M  46-50           7             B                          2   \n",
       "1000005      M  26-35          20             A                          1   \n",
       "...        ...    ...         ...           ...                        ...   \n",
       "1006036      F  26-35          15             B                         4+   \n",
       "1006037      F  46-50           1             C                         4+   \n",
       "1006038      F    55+           1             C                          2   \n",
       "1006039      F  46-50           0             B                         4+   \n",
       "1006040      M  26-35           6             B                          2   \n",
       "\n",
       "         Marital_Status  \n",
       "User_ID                  \n",
       "1000001               0  \n",
       "1000002               0  \n",
       "1000003               0  \n",
       "1000004               1  \n",
       "1000005               1  \n",
       "...                 ...  \n",
       "1006036               1  \n",
       "1006037               0  \n",
       "1006038               0  \n",
       "1006039               1  \n",
       "1006040               0  \n",
       "\n",
       "[5891 rows x 6 columns]"
      ]
     },
     "execution_count": 17,
     "metadata": {},
     "output_type": "execute_result"
    }
   ],
   "source": [
    "df_user=df.groupby('User_ID')[['Gender','Age','Occupation','City_Category','Stay_In_Current_City_Years','Marital_Status']].max()\n",
    "df_user"
   ]
  },
  {
   "cell_type": "code",
   "execution_count": 279,
   "id": "0a5df462",
   "metadata": {},
   "outputs": [
    {
     "name": "stdout",
     "output_type": "stream",
     "text": [
      "<class 'pandas.core.frame.DataFrame'>\n",
      "Int64Index: 5891 entries, 1000001 to 1006040\n",
      "Data columns (total 6 columns):\n",
      " #   Column                      Non-Null Count  Dtype \n",
      "---  ------                      --------------  ----- \n",
      " 0   Gender                      5891 non-null   object\n",
      " 1   Age                         5891 non-null   object\n",
      " 2   Occupation                  5891 non-null   int64 \n",
      " 3   City_Category               5891 non-null   object\n",
      " 4   Stay_In_Current_City_Years  5891 non-null   object\n",
      " 5   Marital_Status              5891 non-null   int64 \n",
      "dtypes: int64(2), object(4)\n",
      "memory usage: 322.2+ KB\n"
     ]
    }
   ],
   "source": [
    "df_user.info()"
   ]
  },
  {
   "cell_type": "code",
   "execution_count": 280,
   "id": "ae2c2b3a",
   "metadata": {},
   "outputs": [],
   "source": [
    "df_user1=df.groupby('User_ID')[['Purchase']].sum()"
   ]
  },
  {
   "cell_type": "code",
   "execution_count": 281,
   "id": "5733ae0d",
   "metadata": {},
   "outputs": [
    {
     "data": {
      "text/html": [
       "<div>\n",
       "<style scoped>\n",
       "    .dataframe tbody tr th:only-of-type {\n",
       "        vertical-align: middle;\n",
       "    }\n",
       "\n",
       "    .dataframe tbody tr th {\n",
       "        vertical-align: top;\n",
       "    }\n",
       "\n",
       "    .dataframe thead th {\n",
       "        text-align: right;\n",
       "    }\n",
       "</style>\n",
       "<table border=\"1\" class=\"dataframe\">\n",
       "  <thead>\n",
       "    <tr style=\"text-align: right;\">\n",
       "      <th></th>\n",
       "      <th>Purchase</th>\n",
       "    </tr>\n",
       "    <tr>\n",
       "      <th>User_ID</th>\n",
       "      <th></th>\n",
       "    </tr>\n",
       "  </thead>\n",
       "  <tbody>\n",
       "    <tr>\n",
       "      <th>1000001</th>\n",
       "      <td>334093</td>\n",
       "    </tr>\n",
       "    <tr>\n",
       "      <th>1000002</th>\n",
       "      <td>810472</td>\n",
       "    </tr>\n",
       "    <tr>\n",
       "      <th>1000003</th>\n",
       "      <td>341635</td>\n",
       "    </tr>\n",
       "    <tr>\n",
       "      <th>1000004</th>\n",
       "      <td>206468</td>\n",
       "    </tr>\n",
       "    <tr>\n",
       "      <th>1000005</th>\n",
       "      <td>821001</td>\n",
       "    </tr>\n",
       "    <tr>\n",
       "      <th>...</th>\n",
       "      <td>...</td>\n",
       "    </tr>\n",
       "    <tr>\n",
       "      <th>1006036</th>\n",
       "      <td>4116058</td>\n",
       "    </tr>\n",
       "    <tr>\n",
       "      <th>1006037</th>\n",
       "      <td>1119538</td>\n",
       "    </tr>\n",
       "    <tr>\n",
       "      <th>1006038</th>\n",
       "      <td>90034</td>\n",
       "    </tr>\n",
       "    <tr>\n",
       "      <th>1006039</th>\n",
       "      <td>590319</td>\n",
       "    </tr>\n",
       "    <tr>\n",
       "      <th>1006040</th>\n",
       "      <td>1653299</td>\n",
       "    </tr>\n",
       "  </tbody>\n",
       "</table>\n",
       "<p>5891 rows × 1 columns</p>\n",
       "</div>"
      ],
      "text/plain": [
       "         Purchase\n",
       "User_ID          \n",
       "1000001    334093\n",
       "1000002    810472\n",
       "1000003    341635\n",
       "1000004    206468\n",
       "1000005    821001\n",
       "...           ...\n",
       "1006036   4116058\n",
       "1006037   1119538\n",
       "1006038     90034\n",
       "1006039    590319\n",
       "1006040   1653299\n",
       "\n",
       "[5891 rows x 1 columns]"
      ]
     },
     "execution_count": 281,
     "metadata": {},
     "output_type": "execute_result"
    }
   ],
   "source": [
    "df_user1"
   ]
  },
  {
   "cell_type": "code",
   "execution_count": 282,
   "id": "4cd1a10a",
   "metadata": {},
   "outputs": [],
   "source": [
    "df_summary=pd.merge(df_user, df_user1, on=\"User_ID\").reset_index()"
   ]
  },
  {
   "cell_type": "code",
   "execution_count": 283,
   "id": "9cd75e5f",
   "metadata": {},
   "outputs": [
    {
     "data": {
      "text/html": [
       "<div>\n",
       "<style scoped>\n",
       "    .dataframe tbody tr th:only-of-type {\n",
       "        vertical-align: middle;\n",
       "    }\n",
       "\n",
       "    .dataframe tbody tr th {\n",
       "        vertical-align: top;\n",
       "    }\n",
       "\n",
       "    .dataframe thead th {\n",
       "        text-align: right;\n",
       "    }\n",
       "</style>\n",
       "<table border=\"1\" class=\"dataframe\">\n",
       "  <thead>\n",
       "    <tr style=\"text-align: right;\">\n",
       "      <th></th>\n",
       "      <th>User_ID</th>\n",
       "      <th>Gender</th>\n",
       "      <th>Age</th>\n",
       "      <th>Occupation</th>\n",
       "      <th>City_Category</th>\n",
       "      <th>Stay_In_Current_City_Years</th>\n",
       "      <th>Marital_Status</th>\n",
       "      <th>Purchase</th>\n",
       "    </tr>\n",
       "  </thead>\n",
       "  <tbody>\n",
       "    <tr>\n",
       "      <th>0</th>\n",
       "      <td>1000001</td>\n",
       "      <td>F</td>\n",
       "      <td>0-17</td>\n",
       "      <td>10</td>\n",
       "      <td>A</td>\n",
       "      <td>2</td>\n",
       "      <td>0</td>\n",
       "      <td>334093</td>\n",
       "    </tr>\n",
       "    <tr>\n",
       "      <th>1</th>\n",
       "      <td>1000002</td>\n",
       "      <td>M</td>\n",
       "      <td>55+</td>\n",
       "      <td>16</td>\n",
       "      <td>C</td>\n",
       "      <td>4+</td>\n",
       "      <td>0</td>\n",
       "      <td>810472</td>\n",
       "    </tr>\n",
       "    <tr>\n",
       "      <th>2</th>\n",
       "      <td>1000003</td>\n",
       "      <td>M</td>\n",
       "      <td>26-35</td>\n",
       "      <td>15</td>\n",
       "      <td>A</td>\n",
       "      <td>3</td>\n",
       "      <td>0</td>\n",
       "      <td>341635</td>\n",
       "    </tr>\n",
       "    <tr>\n",
       "      <th>3</th>\n",
       "      <td>1000004</td>\n",
       "      <td>M</td>\n",
       "      <td>46-50</td>\n",
       "      <td>7</td>\n",
       "      <td>B</td>\n",
       "      <td>2</td>\n",
       "      <td>1</td>\n",
       "      <td>206468</td>\n",
       "    </tr>\n",
       "    <tr>\n",
       "      <th>4</th>\n",
       "      <td>1000005</td>\n",
       "      <td>M</td>\n",
       "      <td>26-35</td>\n",
       "      <td>20</td>\n",
       "      <td>A</td>\n",
       "      <td>1</td>\n",
       "      <td>1</td>\n",
       "      <td>821001</td>\n",
       "    </tr>\n",
       "    <tr>\n",
       "      <th>...</th>\n",
       "      <td>...</td>\n",
       "      <td>...</td>\n",
       "      <td>...</td>\n",
       "      <td>...</td>\n",
       "      <td>...</td>\n",
       "      <td>...</td>\n",
       "      <td>...</td>\n",
       "      <td>...</td>\n",
       "    </tr>\n",
       "    <tr>\n",
       "      <th>5886</th>\n",
       "      <td>1006036</td>\n",
       "      <td>F</td>\n",
       "      <td>26-35</td>\n",
       "      <td>15</td>\n",
       "      <td>B</td>\n",
       "      <td>4+</td>\n",
       "      <td>1</td>\n",
       "      <td>4116058</td>\n",
       "    </tr>\n",
       "    <tr>\n",
       "      <th>5887</th>\n",
       "      <td>1006037</td>\n",
       "      <td>F</td>\n",
       "      <td>46-50</td>\n",
       "      <td>1</td>\n",
       "      <td>C</td>\n",
       "      <td>4+</td>\n",
       "      <td>0</td>\n",
       "      <td>1119538</td>\n",
       "    </tr>\n",
       "    <tr>\n",
       "      <th>5888</th>\n",
       "      <td>1006038</td>\n",
       "      <td>F</td>\n",
       "      <td>55+</td>\n",
       "      <td>1</td>\n",
       "      <td>C</td>\n",
       "      <td>2</td>\n",
       "      <td>0</td>\n",
       "      <td>90034</td>\n",
       "    </tr>\n",
       "    <tr>\n",
       "      <th>5889</th>\n",
       "      <td>1006039</td>\n",
       "      <td>F</td>\n",
       "      <td>46-50</td>\n",
       "      <td>0</td>\n",
       "      <td>B</td>\n",
       "      <td>4+</td>\n",
       "      <td>1</td>\n",
       "      <td>590319</td>\n",
       "    </tr>\n",
       "    <tr>\n",
       "      <th>5890</th>\n",
       "      <td>1006040</td>\n",
       "      <td>M</td>\n",
       "      <td>26-35</td>\n",
       "      <td>6</td>\n",
       "      <td>B</td>\n",
       "      <td>2</td>\n",
       "      <td>0</td>\n",
       "      <td>1653299</td>\n",
       "    </tr>\n",
       "  </tbody>\n",
       "</table>\n",
       "<p>5891 rows × 8 columns</p>\n",
       "</div>"
      ],
      "text/plain": [
       "      User_ID Gender    Age  Occupation City_Category  \\\n",
       "0     1000001      F   0-17          10             A   \n",
       "1     1000002      M    55+          16             C   \n",
       "2     1000003      M  26-35          15             A   \n",
       "3     1000004      M  46-50           7             B   \n",
       "4     1000005      M  26-35          20             A   \n",
       "...       ...    ...    ...         ...           ...   \n",
       "5886  1006036      F  26-35          15             B   \n",
       "5887  1006037      F  46-50           1             C   \n",
       "5888  1006038      F    55+           1             C   \n",
       "5889  1006039      F  46-50           0             B   \n",
       "5890  1006040      M  26-35           6             B   \n",
       "\n",
       "     Stay_In_Current_City_Years  Marital_Status  Purchase  \n",
       "0                             2               0    334093  \n",
       "1                            4+               0    810472  \n",
       "2                             3               0    341635  \n",
       "3                             2               1    206468  \n",
       "4                             1               1    821001  \n",
       "...                         ...             ...       ...  \n",
       "5886                         4+               1   4116058  \n",
       "5887                         4+               0   1119538  \n",
       "5888                          2               0     90034  \n",
       "5889                         4+               1    590319  \n",
       "5890                          2               0   1653299  \n",
       "\n",
       "[5891 rows x 8 columns]"
      ]
     },
     "execution_count": 283,
     "metadata": {},
     "output_type": "execute_result"
    }
   ],
   "source": [
    "df_summary"
   ]
  },
  {
   "cell_type": "code",
   "execution_count": null,
   "id": "ca524f2c",
   "metadata": {},
   "outputs": [],
   "source": []
  },
  {
   "cell_type": "code",
   "execution_count": 284,
   "id": "c1bd9b0c",
   "metadata": {},
   "outputs": [
    {
     "data": {
      "text/plain": [
       "M    4225\n",
       "F    1666\n",
       "Name: Gender, dtype: int64"
      ]
     },
     "execution_count": 284,
     "metadata": {},
     "output_type": "execute_result"
    }
   ],
   "source": [
    "#Calculatre Gender Ratio\n",
    "df_summary['Gender'].value_counts()"
   ]
  },
  {
   "cell_type": "code",
   "execution_count": 285,
   "id": "07d4bb30",
   "metadata": {},
   "outputs": [
    {
     "data": {
      "text/plain": [
       "M    0.717196\n",
       "F    0.282804\n",
       "Name: Gender, dtype: float64"
      ]
     },
     "execution_count": 285,
     "metadata": {},
     "output_type": "execute_result"
    }
   ],
   "source": [
    "df_summary['Gender'].value_counts(normalize=True)"
   ]
  },
  {
   "cell_type": "code",
   "execution_count": 286,
   "id": "9c57e085",
   "metadata": {},
   "outputs": [
    {
     "data": {
      "text/plain": [
       "0    0.584615\n",
       "1    0.415385\n",
       "Name: Marital_Status, dtype: float64"
      ]
     },
     "execution_count": 286,
     "metadata": {},
     "output_type": "execute_result"
    }
   ],
   "source": [
    "df_summary[df_summary['Gender']=='M']['Marital_Status'].value_counts(normalize=True)"
   ]
  },
  {
   "cell_type": "code",
   "execution_count": 287,
   "id": "7c93abb7",
   "metadata": {},
   "outputs": [
    {
     "data": {
      "text/html": [
       "<div>\n",
       "<style scoped>\n",
       "    .dataframe tbody tr th:only-of-type {\n",
       "        vertical-align: middle;\n",
       "    }\n",
       "\n",
       "    .dataframe tbody tr th {\n",
       "        vertical-align: top;\n",
       "    }\n",
       "\n",
       "    .dataframe thead th {\n",
       "        text-align: right;\n",
       "    }\n",
       "</style>\n",
       "<table border=\"1\" class=\"dataframe\">\n",
       "  <thead>\n",
       "    <tr style=\"text-align: right;\">\n",
       "      <th></th>\n",
       "      <th>User_ID</th>\n",
       "      <th>Occupation</th>\n",
       "      <th>Marital_Status</th>\n",
       "      <th>Purchase</th>\n",
       "    </tr>\n",
       "  </thead>\n",
       "  <tbody>\n",
       "    <tr>\n",
       "      <th>count</th>\n",
       "      <td>5.891000e+03</td>\n",
       "      <td>5891.000000</td>\n",
       "      <td>5891.000000</td>\n",
       "      <td>5.891000e+03</td>\n",
       "    </tr>\n",
       "    <tr>\n",
       "      <th>mean</th>\n",
       "      <td>1.003025e+06</td>\n",
       "      <td>8.153285</td>\n",
       "      <td>0.419963</td>\n",
       "      <td>8.650166e+05</td>\n",
       "    </tr>\n",
       "    <tr>\n",
       "      <th>std</th>\n",
       "      <td>1.743379e+03</td>\n",
       "      <td>6.323140</td>\n",
       "      <td>0.493594</td>\n",
       "      <td>9.436445e+05</td>\n",
       "    </tr>\n",
       "    <tr>\n",
       "      <th>min</th>\n",
       "      <td>1.000001e+06</td>\n",
       "      <td>0.000000</td>\n",
       "      <td>0.000000</td>\n",
       "      <td>4.668100e+04</td>\n",
       "    </tr>\n",
       "    <tr>\n",
       "      <th>25%</th>\n",
       "      <td>1.001518e+06</td>\n",
       "      <td>3.000000</td>\n",
       "      <td>0.000000</td>\n",
       "      <td>2.376780e+05</td>\n",
       "    </tr>\n",
       "    <tr>\n",
       "      <th>50%</th>\n",
       "      <td>1.003026e+06</td>\n",
       "      <td>7.000000</td>\n",
       "      <td>0.000000</td>\n",
       "      <td>5.212130e+05</td>\n",
       "    </tr>\n",
       "    <tr>\n",
       "      <th>75%</th>\n",
       "      <td>1.004532e+06</td>\n",
       "      <td>14.000000</td>\n",
       "      <td>1.000000</td>\n",
       "      <td>1.119250e+06</td>\n",
       "    </tr>\n",
       "    <tr>\n",
       "      <th>max</th>\n",
       "      <td>1.006040e+06</td>\n",
       "      <td>20.000000</td>\n",
       "      <td>1.000000</td>\n",
       "      <td>1.053691e+07</td>\n",
       "    </tr>\n",
       "  </tbody>\n",
       "</table>\n",
       "</div>"
      ],
      "text/plain": [
       "            User_ID   Occupation  Marital_Status      Purchase\n",
       "count  5.891000e+03  5891.000000     5891.000000  5.891000e+03\n",
       "mean   1.003025e+06     8.153285        0.419963  8.650166e+05\n",
       "std    1.743379e+03     6.323140        0.493594  9.436445e+05\n",
       "min    1.000001e+06     0.000000        0.000000  4.668100e+04\n",
       "25%    1.001518e+06     3.000000        0.000000  2.376780e+05\n",
       "50%    1.003026e+06     7.000000        0.000000  5.212130e+05\n",
       "75%    1.004532e+06    14.000000        1.000000  1.119250e+06\n",
       "max    1.006040e+06    20.000000        1.000000  1.053691e+07"
      ]
     },
     "execution_count": 287,
     "metadata": {},
     "output_type": "execute_result"
    }
   ],
   "source": [
    "df_summary.describe()"
   ]
  },
  {
   "cell_type": "code",
   "execution_count": 288,
   "id": "f88669ea",
   "metadata": {},
   "outputs": [
    {
     "data": {
      "image/png": "[encoded data removed]",
      "text/plain": [
       "<Figure size 404.875x360 with 1 Axes>"
      ]
     },
     "metadata": {
      "needs_background": "light"
     },
     "output_type": "display_data"
    }
   ],
   "source": [
    "#histogram of total purchase value by each gender\n",
    "sns.displot(x='Purchase', data=df_summary, hue='Gender', bins=25, log_scale=True )\n",
    "plt.xlabel('Total Spend');\n",
    "plt.title('Cumulative Spend Distribution')\n",
    "plt.show()"
   ]
  },
  {
   "cell_type": "code",
   "execution_count": 289,
   "id": "e1a62db4",
   "metadata": {},
   "outputs": [
    {
     "data": {
      "image/png": "[encoded data removed]",
      "text/plain": [
       "<Figure size 404.875x360 with 1 Axes>"
      ]
     },
     "metadata": {
      "needs_background": "light"
     },
     "output_type": "display_data"
    }
   ],
   "source": [
    "#histogram for item purchase value by gender\n",
    "sns.displot(x='Purchase', data=df, bins=25, hue='Gender')\n",
    "plt.title('Purchase Distribution')\n",
    "plt.show()"
   ]
  },
  {
   "cell_type": "code",
   "execution_count": 290,
   "id": "338b15c0",
   "metadata": {},
   "outputs": [
    {
     "data": {
      "image/png": "[encoded data removed]",
      "text/plain": [
       "<Figure size 432x288 with 1 Axes>"
      ]
     },
     "metadata": {
      "needs_background": "light"
     },
     "output_type": "display_data"
    }
   ],
   "source": [
    "sns.boxplot(y='Purchase', data=df, x='Gender')\n",
    "plt.title('Purchase Distribution per transaction')\n",
    "plt.show()"
   ]
  },
  {
   "cell_type": "code",
   "execution_count": 291,
   "id": "ba4524b7",
   "metadata": {
    "scrolled": true
   },
   "outputs": [
    {
     "data": {
      "image/png": "[encoded data removed]",
      "text/plain": [
       "<Figure size 432x288 with 1 Axes>"
      ]
     },
     "metadata": {
      "needs_background": "light"
     },
     "output_type": "display_data"
    }
   ],
   "source": [
    "ax=sns.boxplot(y='Purchase', data=df_summary, x='Gender')\n",
    "ax.set_yscale('log')\n",
    "plt.title('Purchase Distribution per Customer')\n",
    "plt.show()"
   ]
  },
  {
   "cell_type": "code",
   "execution_count": 41,
   "id": "e9a5ebff",
   "metadata": {},
   "outputs": [
    {
     "data": {
      "text/plain": [
       "925344.4023668639"
      ]
     },
     "execution_count": 41,
     "metadata": {},
     "output_type": "execute_result"
    }
   ],
   "source": [
    "df_summary[df_summary['Gender']=='M']['Purchase'].mean()"
   ]
  },
  {
   "cell_type": "code",
   "execution_count": 42,
   "id": "394e462e",
   "metadata": {},
   "outputs": [
    {
     "data": {
      "text/plain": [
       "712024.3949579832"
      ]
     },
     "execution_count": 42,
     "metadata": {},
     "output_type": "execute_result"
    }
   ],
   "source": [
    "df_summary[df_summary['Gender']=='F']['Purchase'].mean()"
   ]
  },
  {
   "cell_type": "code",
   "execution_count": 43,
   "id": "0312b692",
   "metadata": {},
   "outputs": [
    {
     "data": {
      "text/plain": [
       "3631"
      ]
     },
     "execution_count": 43,
     "metadata": {},
     "output_type": "execute_result"
    }
   ],
   "source": [
    "df['Product_ID'].nunique()"
   ]
  },
  {
   "cell_type": "code",
   "execution_count": 45,
   "id": "0d0fe4c7",
   "metadata": {},
   "outputs": [],
   "source": [
    "#Treat outliers in the summary dataframe"
   ]
  },
  {
   "cell_type": "code",
   "execution_count": 46,
   "id": "60b03572",
   "metadata": {},
   "outputs": [],
   "source": [
    "def remove_outlier(col):\n",
    "    sorted(col)\n",
    "    Q1,Q3=np.percentile(col,[25,75])\n",
    "    IQR=Q3-Q1\n",
    "    lower_range= Q1-(1.5 * IQR)\n",
    "    upper_range= Q3+(1.5 * IQR)\n",
    "    return lower_range, upper_range"
   ]
  },
  {
   "cell_type": "code",
   "execution_count": 47,
   "id": "0665e277",
   "metadata": {},
   "outputs": [],
   "source": [
    "lr,ur=remove_outlier(df_summary['Purchase'])\n",
    "df_summary['Purchase']=np.where(df_summary['Purchase']>ur,ur,df_summary['Purchase'])\n",
    "df_summary['Purchase']=np.where(df_summary['Purchase']<lr,lr,df_summary['Purchase'])"
   ]
  },
  {
   "cell_type": "code",
   "execution_count": 48,
   "id": "ba747813",
   "metadata": {},
   "outputs": [
    {
     "data": {
      "image/png": "[encoded data removed]",
      "text/plain": [
       "<Figure size 432x288 with 1 Axes>"
      ]
     },
     "metadata": {
      "needs_background": "light"
     },
     "output_type": "display_data"
    }
   ],
   "source": [
    "ax=sns.boxplot(y='Purchase', data=df_summary, x='Gender')\n",
    "ax.set_yscale('log')"
   ]
  },
  {
   "cell_type": "code",
   "execution_count": 49,
   "id": "f8bb237f",
   "metadata": {},
   "outputs": [
    {
     "data": {
      "text/plain": [
       "840421.4665680473"
      ]
     },
     "execution_count": 49,
     "metadata": {},
     "output_type": "execute_result"
    }
   ],
   "source": [
    "df_summary[df_summary['Gender']=='M']['Purchase'].mean()"
   ]
  },
  {
   "cell_type": "code",
   "execution_count": 50,
   "id": "62a48654",
   "metadata": {},
   "outputs": [
    {
     "data": {
      "text/plain": [
       "665433.0969387755"
      ]
     },
     "execution_count": 50,
     "metadata": {},
     "output_type": "execute_result"
    }
   ],
   "source": [
    "df_summary[df_summary['Gender']=='F']['Purchase'].mean()"
   ]
  },
  {
   "cell_type": "code",
   "execution_count": null,
   "id": "bac7b452",
   "metadata": {},
   "outputs": [],
   "source": []
  },
  {
   "cell_type": "code",
   "execution_count": 51,
   "id": "0d66fac6",
   "metadata": {},
   "outputs": [
    {
     "data": {
      "text/plain": [
       "3588"
      ]
     },
     "execution_count": 51,
     "metadata": {},
     "output_type": "execute_result"
    }
   ],
   "source": [
    "df[df['Gender']=='M']['Product_ID'].nunique()"
   ]
  },
  {
   "cell_type": "code",
   "execution_count": 52,
   "id": "714bd41a",
   "metadata": {
    "scrolled": true
   },
   "outputs": [
    {
     "data": {
      "text/plain": [
       "3367"
      ]
     },
     "execution_count": 52,
     "metadata": {},
     "output_type": "execute_result"
    }
   ],
   "source": [
    "df[df['Gender']=='F']['Product_ID'].nunique()"
   ]
  },
  {
   "cell_type": "code",
   "execution_count": null,
   "id": "848bcfca",
   "metadata": {},
   "outputs": [],
   "source": []
  },
  {
   "cell_type": "code",
   "execution_count": 53,
   "id": "ce55e0e0",
   "metadata": {},
   "outputs": [],
   "source": [
    "import random\n",
    "import statistics"
   ]
  },
  {
   "cell_type": "code",
   "execution_count": 54,
   "id": "9cb6740d",
   "metadata": {},
   "outputs": [],
   "source": [
    "random.seed(10)"
   ]
  },
  {
   "cell_type": "code",
   "execution_count": 55,
   "id": "5fd75be4",
   "metadata": {},
   "outputs": [],
   "source": [
    "def myboot(mysample):\n",
    "    resample=random.choices(mysample, k=100)\n",
    "    m = np.mean(resample)\n",
    "    return m"
   ]
  },
  {
   "cell_type": "code",
   "execution_count": 56,
   "id": "ad5c767e",
   "metadata": {},
   "outputs": [],
   "source": [
    "mean_M =[]\n",
    "mean_F = []\n"
   ]
  },
  {
   "cell_type": "code",
   "execution_count": 57,
   "id": "d382fa8f",
   "metadata": {},
   "outputs": [],
   "source": [
    "for i in range(1000):\n",
    "    m=myboot(df_summary[df_summary['Gender']=='M']['Purchase'].to_list())\n",
    "    f=myboot(df_summary[df_summary['Gender']=='F']['Purchase'].to_list())\n",
    "    mean_M.append(m)\n",
    "    mean_F.append(f)"
   ]
  },
  {
   "cell_type": "code",
   "execution_count": 67,
   "id": "b22197ff",
   "metadata": {
    "scrolled": true
   },
   "outputs": [
    {
     "data": {
      "image/png": "[encoded data removed]",
      "text/plain": [
       "<Figure size 432x288 with 1 Axes>"
      ]
     },
     "metadata": {
      "needs_background": "light"
     },
     "output_type": "display_data"
    }
   ],
   "source": [
    "plt.hist(x=mean_M, bins=20)\n",
    "plt.hist(x=mean_F, bins=20)\n",
    "plt.show()"
   ]
  },
  {
   "cell_type": "code",
   "execution_count": null,
   "id": "dd4f1480",
   "metadata": {},
   "outputs": [],
   "source": []
  },
  {
   "cell_type": "code",
   "execution_count": 64,
   "id": "a6effd33",
   "metadata": {},
   "outputs": [],
   "source": [
    "df_mean = pd.concat(axis=0, ignore_index=True, objs=[\n",
    "    pd.DataFrame.from_dict({'value': mean_M, 'name': 'mean_M'}),\n",
    "    pd.DataFrame.from_dict({'value': mean_F, 'name': 'mean_F'})\n",
    "])"
   ]
  },
  {
   "cell_type": "code",
   "execution_count": 65,
   "id": "477bd0f5",
   "metadata": {
    "scrolled": true
   },
   "outputs": [
    {
     "data": {
      "text/html": [
       "<div>\n",
       "<style scoped>\n",
       "    .dataframe tbody tr th:only-of-type {\n",
       "        vertical-align: middle;\n",
       "    }\n",
       "\n",
       "    .dataframe tbody tr th {\n",
       "        vertical-align: top;\n",
       "    }\n",
       "\n",
       "    .dataframe thead th {\n",
       "        text-align: right;\n",
       "    }\n",
       "</style>\n",
       "<table border=\"1\" class=\"dataframe\">\n",
       "  <thead>\n",
       "    <tr style=\"text-align: right;\">\n",
       "      <th></th>\n",
       "      <th>value</th>\n",
       "      <th>name</th>\n",
       "    </tr>\n",
       "  </thead>\n",
       "  <tbody>\n",
       "    <tr>\n",
       "      <th>0</th>\n",
       "      <td>781143.0225</td>\n",
       "      <td>mean_M</td>\n",
       "    </tr>\n",
       "    <tr>\n",
       "      <th>1</th>\n",
       "      <td>848578.5675</td>\n",
       "      <td>mean_M</td>\n",
       "    </tr>\n",
       "    <tr>\n",
       "      <th>2</th>\n",
       "      <td>837703.7775</td>\n",
       "      <td>mean_M</td>\n",
       "    </tr>\n",
       "    <tr>\n",
       "      <th>3</th>\n",
       "      <td>847778.4200</td>\n",
       "      <td>mean_M</td>\n",
       "    </tr>\n",
       "    <tr>\n",
       "      <th>4</th>\n",
       "      <td>890152.9725</td>\n",
       "      <td>mean_M</td>\n",
       "    </tr>\n",
       "    <tr>\n",
       "      <th>...</th>\n",
       "      <td>...</td>\n",
       "      <td>...</td>\n",
       "    </tr>\n",
       "    <tr>\n",
       "      <th>1995</th>\n",
       "      <td>701015.0825</td>\n",
       "      <td>mean_F</td>\n",
       "    </tr>\n",
       "    <tr>\n",
       "      <th>1996</th>\n",
       "      <td>888472.1475</td>\n",
       "      <td>mean_F</td>\n",
       "    </tr>\n",
       "    <tr>\n",
       "      <th>1997</th>\n",
       "      <td>685350.7125</td>\n",
       "      <td>mean_F</td>\n",
       "    </tr>\n",
       "    <tr>\n",
       "      <th>1998</th>\n",
       "      <td>606526.2850</td>\n",
       "      <td>mean_F</td>\n",
       "    </tr>\n",
       "    <tr>\n",
       "      <th>1999</th>\n",
       "      <td>598854.7975</td>\n",
       "      <td>mean_F</td>\n",
       "    </tr>\n",
       "  </tbody>\n",
       "</table>\n",
       "<p>2000 rows × 2 columns</p>\n",
       "</div>"
      ],
      "text/plain": [
       "            value    name\n",
       "0     781143.0225  mean_M\n",
       "1     848578.5675  mean_M\n",
       "2     837703.7775  mean_M\n",
       "3     847778.4200  mean_M\n",
       "4     890152.9725  mean_M\n",
       "...           ...     ...\n",
       "1995  701015.0825  mean_F\n",
       "1996  888472.1475  mean_F\n",
       "1997  685350.7125  mean_F\n",
       "1998  606526.2850  mean_F\n",
       "1999  598854.7975  mean_F\n",
       "\n",
       "[2000 rows x 2 columns]"
      ]
     },
     "execution_count": 65,
     "metadata": {},
     "output_type": "execute_result"
    }
   ],
   "source": [
    "df_mean"
   ]
  },
  {
   "cell_type": "code",
   "execution_count": 66,
   "id": "66ff48f9",
   "metadata": {
    "scrolled": true
   },
   "outputs": [
    {
     "data": {
      "text/plain": [
       "<AxesSubplot:xlabel='value', ylabel='Count'>"
      ]
     },
     "execution_count": 66,
     "metadata": {},
     "output_type": "execute_result"
    },
    {
     "data": {
      "image/png": "[encoded data removed]",
      "text/plain": [
       "<Figure size 432x288 with 1 Axes>"
      ]
     },
     "metadata": {
      "needs_background": "light"
     },
     "output_type": "display_data"
    }
   ],
   "source": [
    "sns.histplot(x='value', hue='name', data= df_mean, kde=True)\n"
   ]
  },
  {
   "cell_type": "code",
   "execution_count": null,
   "id": "dfa6d71b",
   "metadata": {},
   "outputs": [],
   "source": []
  },
  {
   "cell_type": "code",
   "execution_count": 198,
   "id": "a1ee5a73",
   "metadata": {},
   "outputs": [],
   "source": [
    "#calculating the 95% confidence interval"
   ]
  },
  {
   "cell_type": "code",
   "execution_count": 160,
   "id": "8b244743",
   "metadata": {},
   "outputs": [],
   "source": [
    "confidence=.95"
   ]
  },
  {
   "cell_type": "code",
   "execution_count": 167,
   "id": "120efd1f",
   "metadata": {},
   "outputs": [
    {
     "data": {
      "text/plain": [
       "array([703690.3676875, 981944.1235625])"
      ]
     },
     "execution_count": 167,
     "metadata": {},
     "output_type": "execute_result"
    }
   ],
   "source": [
    "np.percentile(mean_M,[100*(1-confidence)/2,100*(1-(1-confidence)/2)]) \n",
    "# array([-0.13559955, 0.26480175])"
   ]
  },
  {
   "cell_type": "code",
   "execution_count": 293,
   "id": "120cda4b",
   "metadata": {
    "scrolled": true
   },
   "outputs": [
    {
     "data": {
      "text/plain": [
       "839361.2356475"
      ]
     },
     "execution_count": 293,
     "metadata": {},
     "output_type": "execute_result"
    }
   ],
   "source": [
    "np.mean(mean_M)"
   ]
  },
  {
   "cell_type": "code",
   "execution_count": 294,
   "id": "ebcd64c3",
   "metadata": {
    "scrolled": true
   },
   "outputs": [
    {
     "data": {
      "text/plain": [
       "667241.7669225001"
      ]
     },
     "execution_count": 294,
     "metadata": {},
     "output_type": "execute_result"
    }
   ],
   "source": [
    "np.mean(mean_F)"
   ]
  },
  {
   "cell_type": "code",
   "execution_count": 168,
   "id": "e4df8e54",
   "metadata": {},
   "outputs": [
    {
     "data": {
      "text/plain": [
       "array([546147.017875, 797060.916125])"
      ]
     },
     "execution_count": 168,
     "metadata": {},
     "output_type": "execute_result"
    }
   ],
   "source": [
    "np.percentile(mean_F,[100*(1-confidence)/2,100*(1-(1-confidence)/2)])"
   ]
  },
  {
   "cell_type": "code",
   "execution_count": null,
   "id": "bd89eb2e",
   "metadata": {},
   "outputs": [],
   "source": []
  },
  {
   "cell_type": "code",
   "execution_count": 295,
   "id": "e7e0d2a5",
   "metadata": {},
   "outputs": [],
   "source": [
    "#analysing on individual product purchase"
   ]
  },
  {
   "cell_type": "code",
   "execution_count": 296,
   "id": "326e3473",
   "metadata": {},
   "outputs": [],
   "source": [
    "mean_MP =[]\n",
    "mean_FP = []\n"
   ]
  },
  {
   "cell_type": "code",
   "execution_count": 297,
   "id": "5d90b5b4",
   "metadata": {},
   "outputs": [],
   "source": [
    "for i in range(1000):\n",
    "    mp=myboot(df[df['Gender']=='M']['Purchase'].to_list())\n",
    "    fp=myboot(df[df['Gender']=='F']['Purchase'].to_list())\n",
    "    mean_MP.append(mp)\n",
    "    mean_FP.append(fp)"
   ]
  },
  {
   "cell_type": "code",
   "execution_count": null,
   "id": "c040ffb8",
   "metadata": {
    "scrolled": true
   },
   "outputs": [],
   "source": []
  },
  {
   "cell_type": "code",
   "execution_count": null,
   "id": "b72f4399",
   "metadata": {},
   "outputs": [],
   "source": []
  },
  {
   "cell_type": "code",
   "execution_count": 298,
   "id": "ee9dceb5",
   "metadata": {},
   "outputs": [],
   "source": [
    "df_meanP = pd.concat(axis=0, ignore_index=True, objs=[\n",
    "    pd.DataFrame.from_dict({'value': mean_MP, 'name': 'mean_MP'}),\n",
    "    pd.DataFrame.from_dict({'value': mean_FP, 'name': 'mean_FP'})\n",
    "])"
   ]
  },
  {
   "cell_type": "code",
   "execution_count": 299,
   "id": "0759f71c",
   "metadata": {
    "scrolled": true
   },
   "outputs": [
    {
     "data": {
      "text/html": [
       "<div>\n",
       "<style scoped>\n",
       "    .dataframe tbody tr th:only-of-type {\n",
       "        vertical-align: middle;\n",
       "    }\n",
       "\n",
       "    .dataframe tbody tr th {\n",
       "        vertical-align: top;\n",
       "    }\n",
       "\n",
       "    .dataframe thead th {\n",
       "        text-align: right;\n",
       "    }\n",
       "</style>\n",
       "<table border=\"1\" class=\"dataframe\">\n",
       "  <thead>\n",
       "    <tr style=\"text-align: right;\">\n",
       "      <th></th>\n",
       "      <th>value</th>\n",
       "      <th>name</th>\n",
       "    </tr>\n",
       "  </thead>\n",
       "  <tbody>\n",
       "    <tr>\n",
       "      <th>0</th>\n",
       "      <td>9033.98</td>\n",
       "      <td>mean_MP</td>\n",
       "    </tr>\n",
       "    <tr>\n",
       "      <th>1</th>\n",
       "      <td>9128.15</td>\n",
       "      <td>mean_MP</td>\n",
       "    </tr>\n",
       "    <tr>\n",
       "      <th>2</th>\n",
       "      <td>9610.87</td>\n",
       "      <td>mean_MP</td>\n",
       "    </tr>\n",
       "    <tr>\n",
       "      <th>3</th>\n",
       "      <td>9219.72</td>\n",
       "      <td>mean_MP</td>\n",
       "    </tr>\n",
       "    <tr>\n",
       "      <th>4</th>\n",
       "      <td>9507.67</td>\n",
       "      <td>mean_MP</td>\n",
       "    </tr>\n",
       "    <tr>\n",
       "      <th>...</th>\n",
       "      <td>...</td>\n",
       "      <td>...</td>\n",
       "    </tr>\n",
       "    <tr>\n",
       "      <th>1995</th>\n",
       "      <td>9555.25</td>\n",
       "      <td>mean_FP</td>\n",
       "    </tr>\n",
       "    <tr>\n",
       "      <th>1996</th>\n",
       "      <td>9135.31</td>\n",
       "      <td>mean_FP</td>\n",
       "    </tr>\n",
       "    <tr>\n",
       "      <th>1997</th>\n",
       "      <td>8905.42</td>\n",
       "      <td>mean_FP</td>\n",
       "    </tr>\n",
       "    <tr>\n",
       "      <th>1998</th>\n",
       "      <td>9025.40</td>\n",
       "      <td>mean_FP</td>\n",
       "    </tr>\n",
       "    <tr>\n",
       "      <th>1999</th>\n",
       "      <td>7994.44</td>\n",
       "      <td>mean_FP</td>\n",
       "    </tr>\n",
       "  </tbody>\n",
       "</table>\n",
       "<p>2000 rows × 2 columns</p>\n",
       "</div>"
      ],
      "text/plain": [
       "        value     name\n",
       "0     9033.98  mean_MP\n",
       "1     9128.15  mean_MP\n",
       "2     9610.87  mean_MP\n",
       "3     9219.72  mean_MP\n",
       "4     9507.67  mean_MP\n",
       "...       ...      ...\n",
       "1995  9555.25  mean_FP\n",
       "1996  9135.31  mean_FP\n",
       "1997  8905.42  mean_FP\n",
       "1998  9025.40  mean_FP\n",
       "1999  7994.44  mean_FP\n",
       "\n",
       "[2000 rows x 2 columns]"
      ]
     },
     "execution_count": 299,
     "metadata": {},
     "output_type": "execute_result"
    }
   ],
   "source": [
    "df_meanP"
   ]
  },
  {
   "cell_type": "code",
   "execution_count": 300,
   "id": "b2be1c33",
   "metadata": {
    "scrolled": true
   },
   "outputs": [
    {
     "data": {
      "text/plain": [
       "<AxesSubplot:xlabel='value', ylabel='Count'>"
      ]
     },
     "execution_count": 300,
     "metadata": {},
     "output_type": "execute_result"
    },
    {
     "data": {
      "image/png": "[encoded data removed]",
      "text/plain": [
       "<Figure size 432x288 with 1 Axes>"
      ]
     },
     "metadata": {
      "needs_background": "light"
     },
     "output_type": "display_data"
    }
   ],
   "source": [
    "sns.histplot(x='value', hue='name', data= df_meanP, kde=True)\n"
   ]
  },
  {
   "cell_type": "code",
   "execution_count": 301,
   "id": "23ea8750",
   "metadata": {},
   "outputs": [
    {
     "data": {
      "text/plain": [
       "array([ 8388.6085 , 10438.00025])"
      ]
     },
     "execution_count": 301,
     "metadata": {},
     "output_type": "execute_result"
    }
   ],
   "source": [
    "np.percentile(mean_MP,[100*(1-confidence)/2,100*(1-(1-confidence)/2)]) \n",
    "# array([-0.13559955, 0.26480175])"
   ]
  },
  {
   "cell_type": "code",
   "execution_count": 302,
   "id": "2a9f7271",
   "metadata": {
    "scrolled": true
   },
   "outputs": [
    {
     "data": {
      "text/plain": [
       "9454.1718"
      ]
     },
     "execution_count": 302,
     "metadata": {},
     "output_type": "execute_result"
    }
   ],
   "source": [
    "np.mean(mean_MP)"
   ]
  },
  {
   "cell_type": "code",
   "execution_count": 303,
   "id": "fc06f326",
   "metadata": {
    "scrolled": true
   },
   "outputs": [
    {
     "data": {
      "text/plain": [
       "8728.72641"
      ]
     },
     "execution_count": 303,
     "metadata": {},
     "output_type": "execute_result"
    }
   ],
   "source": [
    "np.mean(mean_FP)"
   ]
  },
  {
   "cell_type": "code",
   "execution_count": 304,
   "id": "5f869efa",
   "metadata": {},
   "outputs": [
    {
     "data": {
      "text/plain": [
       "array([7861.45525, 9639.698  ])"
      ]
     },
     "execution_count": 304,
     "metadata": {},
     "output_type": "execute_result"
    }
   ],
   "source": [
    "np.percentile(mean_FP,[100*(1-confidence)/2,100*(1-(1-confidence)/2)])"
   ]
  },
  {
   "cell_type": "code",
   "execution_count": null,
   "id": "206162e6",
   "metadata": {},
   "outputs": [],
   "source": []
  },
  {
   "cell_type": "markdown",
   "id": "33185f2c",
   "metadata": {},
   "source": [
    "### Analysing the Purchase with respect to Age Group and Marital Status"
   ]
  },
  {
   "cell_type": "code",
   "execution_count": 74,
   "id": "3b05d3ac",
   "metadata": {},
   "outputs": [],
   "source": [
    "Age=df['Age'].unique()\n",
    "MS=df['Marital_Status'].unique()"
   ]
  },
  {
   "cell_type": "code",
   "execution_count": 91,
   "id": "2ed37dc6",
   "metadata": {},
   "outputs": [],
   "source": [
    "feature=[Age,MS]\n",
    "feature_label=['Age','Marital_Status']"
   ]
  },
  {
   "cell_type": "code",
   "execution_count": 142,
   "id": "88ccb929",
   "metadata": {},
   "outputs": [],
   "source": [
    "out_df=pd.DataFrame(columns=['feat','cat','mean'])"
   ]
  },
  {
   "cell_type": "code",
   "execution_count": 143,
   "id": "e17682ef",
   "metadata": {},
   "outputs": [
    {
     "data": {
      "text/html": [
       "<div>\n",
       "<style scoped>\n",
       "    .dataframe tbody tr th:only-of-type {\n",
       "        vertical-align: middle;\n",
       "    }\n",
       "\n",
       "    .dataframe tbody tr th {\n",
       "        vertical-align: top;\n",
       "    }\n",
       "\n",
       "    .dataframe thead th {\n",
       "        text-align: right;\n",
       "    }\n",
       "</style>\n",
       "<table border=\"1\" class=\"dataframe\">\n",
       "  <thead>\n",
       "    <tr style=\"text-align: right;\">\n",
       "      <th></th>\n",
       "      <th>feat</th>\n",
       "      <th>cat</th>\n",
       "      <th>mean</th>\n",
       "    </tr>\n",
       "  </thead>\n",
       "  <tbody>\n",
       "  </tbody>\n",
       "</table>\n",
       "</div>"
      ],
      "text/plain": [
       "Empty DataFrame\n",
       "Columns: [feat, cat, mean]\n",
       "Index: []"
      ]
     },
     "execution_count": 143,
     "metadata": {},
     "output_type": "execute_result"
    }
   ],
   "source": [
    "out_df"
   ]
  },
  {
   "cell_type": "code",
   "execution_count": 144,
   "id": "29afefee",
   "metadata": {},
   "outputs": [],
   "source": [
    "for f,fl in zip(feature,feature_label):\n",
    "    #print(f,fl)\n",
    "    for cat in f:\n",
    "        #print(fl,cat)\n",
    "        for i in range(300):\n",
    "            #print(df[fl])\n",
    "            a=myboot(df[df[fl]==cat]['Purchase'].to_list())\n",
    "            #print(fl,cat,a)\n",
    "            out_df=out_df.append({'feat':fl,'cat':cat,'mean':a},ignore_index=True)\n"
   ]
  },
  {
   "cell_type": "code",
   "execution_count": 145,
   "id": "bf199d51",
   "metadata": {},
   "outputs": [
    {
     "data": {
      "text/html": [
       "<div>\n",
       "<style scoped>\n",
       "    .dataframe tbody tr th:only-of-type {\n",
       "        vertical-align: middle;\n",
       "    }\n",
       "\n",
       "    .dataframe tbody tr th {\n",
       "        vertical-align: top;\n",
       "    }\n",
       "\n",
       "    .dataframe thead th {\n",
       "        text-align: right;\n",
       "    }\n",
       "</style>\n",
       "<table border=\"1\" class=\"dataframe\">\n",
       "  <thead>\n",
       "    <tr style=\"text-align: right;\">\n",
       "      <th></th>\n",
       "      <th>feat</th>\n",
       "      <th>cat</th>\n",
       "      <th>mean</th>\n",
       "    </tr>\n",
       "  </thead>\n",
       "  <tbody>\n",
       "    <tr>\n",
       "      <th>0</th>\n",
       "      <td>Age</td>\n",
       "      <td>0-17</td>\n",
       "      <td>9442.98</td>\n",
       "    </tr>\n",
       "    <tr>\n",
       "      <th>1</th>\n",
       "      <td>Age</td>\n",
       "      <td>0-17</td>\n",
       "      <td>9252.04</td>\n",
       "    </tr>\n",
       "    <tr>\n",
       "      <th>2</th>\n",
       "      <td>Age</td>\n",
       "      <td>0-17</td>\n",
       "      <td>8917.43</td>\n",
       "    </tr>\n",
       "    <tr>\n",
       "      <th>3</th>\n",
       "      <td>Age</td>\n",
       "      <td>0-17</td>\n",
       "      <td>9700.23</td>\n",
       "    </tr>\n",
       "    <tr>\n",
       "      <th>4</th>\n",
       "      <td>Age</td>\n",
       "      <td>0-17</td>\n",
       "      <td>8474.66</td>\n",
       "    </tr>\n",
       "    <tr>\n",
       "      <th>...</th>\n",
       "      <td>...</td>\n",
       "      <td>...</td>\n",
       "      <td>...</td>\n",
       "    </tr>\n",
       "    <tr>\n",
       "      <th>2695</th>\n",
       "      <td>Marital_Status</td>\n",
       "      <td>1</td>\n",
       "      <td>8955.91</td>\n",
       "    </tr>\n",
       "    <tr>\n",
       "      <th>2696</th>\n",
       "      <td>Marital_Status</td>\n",
       "      <td>1</td>\n",
       "      <td>9230.03</td>\n",
       "    </tr>\n",
       "    <tr>\n",
       "      <th>2697</th>\n",
       "      <td>Marital_Status</td>\n",
       "      <td>1</td>\n",
       "      <td>9911.22</td>\n",
       "    </tr>\n",
       "    <tr>\n",
       "      <th>2698</th>\n",
       "      <td>Marital_Status</td>\n",
       "      <td>1</td>\n",
       "      <td>9109.26</td>\n",
       "    </tr>\n",
       "    <tr>\n",
       "      <th>2699</th>\n",
       "      <td>Marital_Status</td>\n",
       "      <td>1</td>\n",
       "      <td>9287.08</td>\n",
       "    </tr>\n",
       "  </tbody>\n",
       "</table>\n",
       "<p>2700 rows × 3 columns</p>\n",
       "</div>"
      ],
      "text/plain": [
       "                feat   cat     mean\n",
       "0                Age  0-17  9442.98\n",
       "1                Age  0-17  9252.04\n",
       "2                Age  0-17  8917.43\n",
       "3                Age  0-17  9700.23\n",
       "4                Age  0-17  8474.66\n",
       "...              ...   ...      ...\n",
       "2695  Marital_Status     1  8955.91\n",
       "2696  Marital_Status     1  9230.03\n",
       "2697  Marital_Status     1  9911.22\n",
       "2698  Marital_Status     1  9109.26\n",
       "2699  Marital_Status     1  9287.08\n",
       "\n",
       "[2700 rows x 3 columns]"
      ]
     },
     "execution_count": 145,
     "metadata": {},
     "output_type": "execute_result"
    }
   ],
   "source": [
    "out_df"
   ]
  },
  {
   "cell_type": "code",
   "execution_count": 147,
   "id": "fbdae648",
   "metadata": {},
   "outputs": [],
   "source": [
    "df_age_mean=out_df[out_df['feat']=='Age'][['cat','mean']]"
   ]
  },
  {
   "cell_type": "code",
   "execution_count": 148,
   "id": "75556ad9",
   "metadata": {},
   "outputs": [
    {
     "data": {
      "text/html": [
       "<div>\n",
       "<style scoped>\n",
       "    .dataframe tbody tr th:only-of-type {\n",
       "        vertical-align: middle;\n",
       "    }\n",
       "\n",
       "    .dataframe tbody tr th {\n",
       "        vertical-align: top;\n",
       "    }\n",
       "\n",
       "    .dataframe thead th {\n",
       "        text-align: right;\n",
       "    }\n",
       "</style>\n",
       "<table border=\"1\" class=\"dataframe\">\n",
       "  <thead>\n",
       "    <tr style=\"text-align: right;\">\n",
       "      <th></th>\n",
       "      <th>cat</th>\n",
       "      <th>mean</th>\n",
       "    </tr>\n",
       "  </thead>\n",
       "  <tbody>\n",
       "    <tr>\n",
       "      <th>0</th>\n",
       "      <td>0-17</td>\n",
       "      <td>9442.98</td>\n",
       "    </tr>\n",
       "    <tr>\n",
       "      <th>1</th>\n",
       "      <td>0-17</td>\n",
       "      <td>9252.04</td>\n",
       "    </tr>\n",
       "    <tr>\n",
       "      <th>2</th>\n",
       "      <td>0-17</td>\n",
       "      <td>8917.43</td>\n",
       "    </tr>\n",
       "    <tr>\n",
       "      <th>3</th>\n",
       "      <td>0-17</td>\n",
       "      <td>9700.23</td>\n",
       "    </tr>\n",
       "    <tr>\n",
       "      <th>4</th>\n",
       "      <td>0-17</td>\n",
       "      <td>8474.66</td>\n",
       "    </tr>\n",
       "    <tr>\n",
       "      <th>...</th>\n",
       "      <td>...</td>\n",
       "      <td>...</td>\n",
       "    </tr>\n",
       "    <tr>\n",
       "      <th>2095</th>\n",
       "      <td>18-25</td>\n",
       "      <td>9156.28</td>\n",
       "    </tr>\n",
       "    <tr>\n",
       "      <th>2096</th>\n",
       "      <td>18-25</td>\n",
       "      <td>9117.11</td>\n",
       "    </tr>\n",
       "    <tr>\n",
       "      <th>2097</th>\n",
       "      <td>18-25</td>\n",
       "      <td>9994.99</td>\n",
       "    </tr>\n",
       "    <tr>\n",
       "      <th>2098</th>\n",
       "      <td>18-25</td>\n",
       "      <td>8682.82</td>\n",
       "    </tr>\n",
       "    <tr>\n",
       "      <th>2099</th>\n",
       "      <td>18-25</td>\n",
       "      <td>9472.26</td>\n",
       "    </tr>\n",
       "  </tbody>\n",
       "</table>\n",
       "<p>2100 rows × 2 columns</p>\n",
       "</div>"
      ],
      "text/plain": [
       "        cat     mean\n",
       "0      0-17  9442.98\n",
       "1      0-17  9252.04\n",
       "2      0-17  8917.43\n",
       "3      0-17  9700.23\n",
       "4      0-17  8474.66\n",
       "...     ...      ...\n",
       "2095  18-25  9156.28\n",
       "2096  18-25  9117.11\n",
       "2097  18-25  9994.99\n",
       "2098  18-25  8682.82\n",
       "2099  18-25  9472.26\n",
       "\n",
       "[2100 rows x 2 columns]"
      ]
     },
     "execution_count": 148,
     "metadata": {},
     "output_type": "execute_result"
    }
   ],
   "source": [
    "df_age_mean"
   ]
  },
  {
   "cell_type": "code",
   "execution_count": 151,
   "id": "88b5cb5d",
   "metadata": {
    "scrolled": true
   },
   "outputs": [
    {
     "data": {
      "text/plain": [
       "<AxesSubplot:xlabel='mean', ylabel='Density'>"
      ]
     },
     "execution_count": 151,
     "metadata": {},
     "output_type": "execute_result"
    },
    {
     "data": {
      "image/png": "[encoded data removed]",
      "text/plain": [
       "<Figure size 432x288 with 1 Axes>"
      ]
     },
     "metadata": {
      "needs_background": "light"
     },
     "output_type": "display_data"
    }
   ],
   "source": [
    "sns.kdeplot(x='mean', hue='cat', data= df_age_mean)"
   ]
  },
  {
   "cell_type": "code",
   "execution_count": 152,
   "id": "0692b15b",
   "metadata": {},
   "outputs": [],
   "source": [
    "df_ms_mean=out_df[out_df['feat']=='Marital_Status'][['cat','mean']]"
   ]
  },
  {
   "cell_type": "code",
   "execution_count": 153,
   "id": "ca04f3b2",
   "metadata": {},
   "outputs": [
    {
     "data": {
      "text/plain": [
       "<AxesSubplot:xlabel='mean', ylabel='Count'>"
      ]
     },
     "execution_count": 153,
     "metadata": {},
     "output_type": "execute_result"
    },
    {
     "data": {
      "image/png": "[encoded data removed]",
      "text/plain": [
       "<Figure size 432x288 with 1 Axes>"
      ]
     },
     "metadata": {
      "needs_background": "light"
     },
     "output_type": "display_data"
    }
   ],
   "source": [
    "sns.histplot(x='mean', hue='cat', data= df_ms_mean, kde=True)"
   ]
  },
  {
   "cell_type": "code",
   "execution_count": 192,
   "id": "8ac0e59e",
   "metadata": {},
   "outputs": [],
   "source": [
    "df_age_mm=df_age_mean.groupby('cat').mean().reset_index()"
   ]
  },
  {
   "cell_type": "code",
   "execution_count": 193,
   "id": "0ea007af",
   "metadata": {},
   "outputs": [
    {
     "data": {
      "text/html": [
       "<div>\n",
       "<style scoped>\n",
       "    .dataframe tbody tr th:only-of-type {\n",
       "        vertical-align: middle;\n",
       "    }\n",
       "\n",
       "    .dataframe tbody tr th {\n",
       "        vertical-align: top;\n",
       "    }\n",
       "\n",
       "    .dataframe thead th {\n",
       "        text-align: right;\n",
       "    }\n",
       "</style>\n",
       "<table border=\"1\" class=\"dataframe\">\n",
       "  <thead>\n",
       "    <tr style=\"text-align: right;\">\n",
       "      <th></th>\n",
       "      <th>cat</th>\n",
       "      <th>mean</th>\n",
       "    </tr>\n",
       "  </thead>\n",
       "  <tbody>\n",
       "    <tr>\n",
       "      <th>0</th>\n",
       "      <td>0-17</td>\n",
       "      <td>8911.186967</td>\n",
       "    </tr>\n",
       "    <tr>\n",
       "      <th>1</th>\n",
       "      <td>18-25</td>\n",
       "      <td>9145.856033</td>\n",
       "    </tr>\n",
       "    <tr>\n",
       "      <th>2</th>\n",
       "      <td>26-35</td>\n",
       "      <td>9212.302900</td>\n",
       "    </tr>\n",
       "    <tr>\n",
       "      <th>3</th>\n",
       "      <td>36-45</td>\n",
       "      <td>9357.227667</td>\n",
       "    </tr>\n",
       "    <tr>\n",
       "      <th>4</th>\n",
       "      <td>46-50</td>\n",
       "      <td>9171.530667</td>\n",
       "    </tr>\n",
       "    <tr>\n",
       "      <th>5</th>\n",
       "      <td>51-55</td>\n",
       "      <td>9528.466600</td>\n",
       "    </tr>\n",
       "    <tr>\n",
       "      <th>6</th>\n",
       "      <td>55+</td>\n",
       "      <td>9290.523333</td>\n",
       "    </tr>\n",
       "  </tbody>\n",
       "</table>\n",
       "</div>"
      ],
      "text/plain": [
       "     cat         mean\n",
       "0   0-17  8911.186967\n",
       "1  18-25  9145.856033\n",
       "2  26-35  9212.302900\n",
       "3  36-45  9357.227667\n",
       "4  46-50  9171.530667\n",
       "5  51-55  9528.466600\n",
       "6    55+  9290.523333"
      ]
     },
     "execution_count": 193,
     "metadata": {},
     "output_type": "execute_result"
    }
   ],
   "source": [
    "df_age_mm"
   ]
  },
  {
   "cell_type": "code",
   "execution_count": 196,
   "id": "5bf77283",
   "metadata": {},
   "outputs": [],
   "source": [
    "ci=[.90,.95,.99]\n",
    "\n",
    "for c in ci:\n",
    "    lower=[]\n",
    "    upper=[]\n",
    "    for i in df_age_mm['cat']:\n",
    "        x,y=np.percentile(df_age_mean[df_age_mean['cat']==i]['mean'],[100*(1-confidence)/2,100*(1-(1-confidence)/2)])\n",
    "        lower.append(x)\n",
    "        upper.append(y)\n",
    "    df_age_mm['lower_ci '+ str(c)]=lower\n",
    "    df_age_mm['upper_ci '+ str(c)]=upper        "
   ]
  },
  {
   "cell_type": "code",
   "execution_count": 197,
   "id": "9e22a3e0",
   "metadata": {},
   "outputs": [
    {
     "data": {
      "text/html": [
       "<div>\n",
       "<style scoped>\n",
       "    .dataframe tbody tr th:only-of-type {\n",
       "        vertical-align: middle;\n",
       "    }\n",
       "\n",
       "    .dataframe tbody tr th {\n",
       "        vertical-align: top;\n",
       "    }\n",
       "\n",
       "    .dataframe thead th {\n",
       "        text-align: right;\n",
       "    }\n",
       "</style>\n",
       "<table border=\"1\" class=\"dataframe\">\n",
       "  <thead>\n",
       "    <tr style=\"text-align: right;\">\n",
       "      <th></th>\n",
       "      <th>cat</th>\n",
       "      <th>mean</th>\n",
       "      <th>lower_ci 0.9</th>\n",
       "      <th>upper_ci 0.9</th>\n",
       "      <th>lower_ci 0.95</th>\n",
       "      <th>upper_ci 0.95</th>\n",
       "      <th>lower_ci 0.99</th>\n",
       "      <th>upper_ci 0.99</th>\n",
       "    </tr>\n",
       "  </thead>\n",
       "  <tbody>\n",
       "    <tr>\n",
       "      <th>0</th>\n",
       "      <td>0-17</td>\n",
       "      <td>8911.186967</td>\n",
       "      <td>8012.36150</td>\n",
       "      <td>10006.48900</td>\n",
       "      <td>8012.36150</td>\n",
       "      <td>10006.48900</td>\n",
       "      <td>8012.36150</td>\n",
       "      <td>10006.48900</td>\n",
       "    </tr>\n",
       "    <tr>\n",
       "      <th>1</th>\n",
       "      <td>18-25</td>\n",
       "      <td>9145.856033</td>\n",
       "      <td>8270.98950</td>\n",
       "      <td>10099.79025</td>\n",
       "      <td>8270.98950</td>\n",
       "      <td>10099.79025</td>\n",
       "      <td>8270.98950</td>\n",
       "      <td>10099.79025</td>\n",
       "    </tr>\n",
       "    <tr>\n",
       "      <th>2</th>\n",
       "      <td>26-35</td>\n",
       "      <td>9212.302900</td>\n",
       "      <td>8296.53600</td>\n",
       "      <td>10150.80275</td>\n",
       "      <td>8296.53600</td>\n",
       "      <td>10150.80275</td>\n",
       "      <td>8296.53600</td>\n",
       "      <td>10150.80275</td>\n",
       "    </tr>\n",
       "    <tr>\n",
       "      <th>3</th>\n",
       "      <td>36-45</td>\n",
       "      <td>9357.227667</td>\n",
       "      <td>8327.98575</td>\n",
       "      <td>10343.30975</td>\n",
       "      <td>8327.98575</td>\n",
       "      <td>10343.30975</td>\n",
       "      <td>8327.98575</td>\n",
       "      <td>10343.30975</td>\n",
       "    </tr>\n",
       "    <tr>\n",
       "      <th>4</th>\n",
       "      <td>46-50</td>\n",
       "      <td>9171.530667</td>\n",
       "      <td>8302.80725</td>\n",
       "      <td>10059.25225</td>\n",
       "      <td>8302.80725</td>\n",
       "      <td>10059.25225</td>\n",
       "      <td>8302.80725</td>\n",
       "      <td>10059.25225</td>\n",
       "    </tr>\n",
       "    <tr>\n",
       "      <th>5</th>\n",
       "      <td>51-55</td>\n",
       "      <td>9528.466600</td>\n",
       "      <td>8543.29925</td>\n",
       "      <td>10504.42225</td>\n",
       "      <td>8543.29925</td>\n",
       "      <td>10504.42225</td>\n",
       "      <td>8543.29925</td>\n",
       "      <td>10504.42225</td>\n",
       "    </tr>\n",
       "    <tr>\n",
       "      <th>6</th>\n",
       "      <td>55+</td>\n",
       "      <td>9290.523333</td>\n",
       "      <td>8339.97550</td>\n",
       "      <td>10347.12575</td>\n",
       "      <td>8339.97550</td>\n",
       "      <td>10347.12575</td>\n",
       "      <td>8339.97550</td>\n",
       "      <td>10347.12575</td>\n",
       "    </tr>\n",
       "  </tbody>\n",
       "</table>\n",
       "</div>"
      ],
      "text/plain": [
       "     cat         mean  lower_ci 0.9  upper_ci 0.9  lower_ci 0.95  \\\n",
       "0   0-17  8911.186967    8012.36150   10006.48900     8012.36150   \n",
       "1  18-25  9145.856033    8270.98950   10099.79025     8270.98950   \n",
       "2  26-35  9212.302900    8296.53600   10150.80275     8296.53600   \n",
       "3  36-45  9357.227667    8327.98575   10343.30975     8327.98575   \n",
       "4  46-50  9171.530667    8302.80725   10059.25225     8302.80725   \n",
       "5  51-55  9528.466600    8543.29925   10504.42225     8543.29925   \n",
       "6    55+  9290.523333    8339.97550   10347.12575     8339.97550   \n",
       "\n",
       "   upper_ci 0.95  lower_ci 0.99  upper_ci 0.99  \n",
       "0    10006.48900     8012.36150    10006.48900  \n",
       "1    10099.79025     8270.98950    10099.79025  \n",
       "2    10150.80275     8296.53600    10150.80275  \n",
       "3    10343.30975     8327.98575    10343.30975  \n",
       "4    10059.25225     8302.80725    10059.25225  \n",
       "5    10504.42225     8543.29925    10504.42225  \n",
       "6    10347.12575     8339.97550    10347.12575  "
      ]
     },
     "execution_count": 197,
     "metadata": {},
     "output_type": "execute_result"
    }
   ],
   "source": [
    "df_age_mm"
   ]
  },
  {
   "cell_type": "code",
   "execution_count": 189,
   "id": "120822a8",
   "metadata": {
    "scrolled": true
   },
   "outputs": [
    {
     "data": {
      "text/html": [
       "<div>\n",
       "<style scoped>\n",
       "    .dataframe tbody tr th:only-of-type {\n",
       "        vertical-align: middle;\n",
       "    }\n",
       "\n",
       "    .dataframe tbody tr th {\n",
       "        vertical-align: top;\n",
       "    }\n",
       "\n",
       "    .dataframe thead th {\n",
       "        text-align: right;\n",
       "    }\n",
       "</style>\n",
       "<table border=\"1\" class=\"dataframe\">\n",
       "  <thead>\n",
       "    <tr style=\"text-align: right;\">\n",
       "      <th></th>\n",
       "      <th>cat</th>\n",
       "      <th>mean</th>\n",
       "    </tr>\n",
       "  </thead>\n",
       "  <tbody>\n",
       "    <tr>\n",
       "      <th>0</th>\n",
       "      <td>0</td>\n",
       "      <td>9280.139800</td>\n",
       "    </tr>\n",
       "    <tr>\n",
       "      <th>1</th>\n",
       "      <td>1</td>\n",
       "      <td>9285.209967</td>\n",
       "    </tr>\n",
       "  </tbody>\n",
       "</table>\n",
       "</div>"
      ],
      "text/plain": [
       "   cat         mean\n",
       "0    0  9280.139800\n",
       "1    1  9285.209967"
      ]
     },
     "execution_count": 189,
     "metadata": {},
     "output_type": "execute_result"
    }
   ],
   "source": [
    "df_ms_mm=df_ms_mean.groupby('cat').mean().reset_index()\n",
    "df_ms_mm"
   ]
  },
  {
   "cell_type": "code",
   "execution_count": 190,
   "id": "29c0a537",
   "metadata": {},
   "outputs": [],
   "source": [
    "ci=[.90,.95,.99]\n",
    "\n",
    "for c in ci:\n",
    "    lower=[]\n",
    "    upper=[]\n",
    "    for i in df_ms_mm['cat']:\n",
    "        x,y=np.percentile(df_ms_mean[df_ms_mean['cat']==i]['mean'],[100*(1-c)/2,100*(1-(1-c)/2)])\n",
    "        lower.append(x)\n",
    "        upper.append(y)\n",
    "    df_ms_mm['lower_ci '+ str(c)]=lower\n",
    "    df_ms_mm['upper_ci '+ str(c)]=upper\n"
   ]
  },
  {
   "cell_type": "code",
   "execution_count": 191,
   "id": "8b6f59f9",
   "metadata": {
    "scrolled": true
   },
   "outputs": [
    {
     "data": {
      "text/html": [
       "<div>\n",
       "<style scoped>\n",
       "    .dataframe tbody tr th:only-of-type {\n",
       "        vertical-align: middle;\n",
       "    }\n",
       "\n",
       "    .dataframe tbody tr th {\n",
       "        vertical-align: top;\n",
       "    }\n",
       "\n",
       "    .dataframe thead th {\n",
       "        text-align: right;\n",
       "    }\n",
       "</style>\n",
       "<table border=\"1\" class=\"dataframe\">\n",
       "  <thead>\n",
       "    <tr style=\"text-align: right;\">\n",
       "      <th></th>\n",
       "      <th>cat</th>\n",
       "      <th>mean</th>\n",
       "      <th>lower_ci 0.9</th>\n",
       "      <th>upper_ci 0.9</th>\n",
       "      <th>lower_ci 0.95</th>\n",
       "      <th>upper_ci 0.95</th>\n",
       "      <th>lower_ci 0.99</th>\n",
       "      <th>upper_ci 0.99</th>\n",
       "    </tr>\n",
       "  </thead>\n",
       "  <tbody>\n",
       "    <tr>\n",
       "      <th>0</th>\n",
       "      <td>0</td>\n",
       "      <td>9280.139800</td>\n",
       "      <td>8489.2385</td>\n",
       "      <td>10137.234</td>\n",
       "      <td>8222.33750</td>\n",
       "      <td>10301.70225</td>\n",
       "      <td>8105.01770</td>\n",
       "      <td>10432.63900</td>\n",
       "    </tr>\n",
       "    <tr>\n",
       "      <th>1</th>\n",
       "      <td>1</td>\n",
       "      <td>9285.209967</td>\n",
       "      <td>8409.4500</td>\n",
       "      <td>10154.363</td>\n",
       "      <td>8255.45625</td>\n",
       "      <td>10267.15425</td>\n",
       "      <td>7988.37695</td>\n",
       "      <td>10521.14705</td>\n",
       "    </tr>\n",
       "  </tbody>\n",
       "</table>\n",
       "</div>"
      ],
      "text/plain": [
       "   cat         mean  lower_ci 0.9  upper_ci 0.9  lower_ci 0.95  upper_ci 0.95  \\\n",
       "0    0  9280.139800     8489.2385     10137.234     8222.33750    10301.70225   \n",
       "1    1  9285.209967     8409.4500     10154.363     8255.45625    10267.15425   \n",
       "\n",
       "   lower_ci 0.99  upper_ci 0.99  \n",
       "0     8105.01770    10432.63900  \n",
       "1     7988.37695    10521.14705  "
      ]
     },
     "execution_count": 191,
     "metadata": {},
     "output_type": "execute_result"
    }
   ],
   "source": [
    "df_ms_mm"
   ]
  },
  {
   "cell_type": "code",
   "execution_count": null,
   "id": "549385e0",
   "metadata": {},
   "outputs": [],
   "source": []
  }
 ],
 "metadata": {
  "kernelspec": {
   "display_name": "Python 3 (ipykernel)",
   "language": "python",
   "name": "python3"
  },
  "language_info": {
   "codemirror_mode": {
    "name": "ipython",
    "version": 3
   },
   "file_extension": ".py",
   "mimetype": "text/x-python",
   "name": "python",
   "nbconvert_exporter": "python",
   "pygments_lexer": "ipython3",
   "version": "3.10.2"
  }
 },
 "nbformat": 4,
 "nbformat_minor": 5
}
